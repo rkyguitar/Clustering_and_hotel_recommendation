{
 "cells": [
  {
   "cell_type": "markdown",
   "metadata": {},
   "source": [
    "# Project Hotel"
   ]
  },
  {
   "cell_type": "markdown",
   "metadata": {},
   "source": [
    "Business problem:\n",
    "\n",
    "To build a recommendation system for the hotel industry to examine where each hotel brand stands as compared to its competition. Unlike, other recommendation system this aims are targeting the hotel managers and stakeholder to better understand their industry and gain a competitive edge. Along with recommendation techniques, various clustering and dimensionality techniques were used to bring insight."
   ]
  },
  {
   "cell_type": "markdown",
   "metadata": {},
   "source": [
    "### Import libraries"
   ]
  },
  {
   "cell_type": "code",
   "execution_count": 510,
   "metadata": {},
   "outputs": [],
   "source": [
    "import numpy as np\n",
    "import pandas as pd\n",
    "pd.set_option('display.max_rows',None)\n",
    "pd.set_option(\"display.max_columns\",None)"
   ]
  },
  {
   "cell_type": "markdown",
   "metadata": {},
   "source": [
    "###   Reading Files "
   ]
  },
  {
   "cell_type": "code",
   "execution_count": 511,
   "metadata": {},
   "outputs": [],
   "source": [
    "df_details = pd.read_csv('Hotel_details.csv') # loading file "
   ]
  },
  {
   "cell_type": "code",
   "execution_count": 512,
   "metadata": {},
   "outputs": [
    {
     "data": {
      "text/html": [
       "<div>\n",
       "<style scoped>\n",
       "    .dataframe tbody tr th:only-of-type {\n",
       "        vertical-align: middle;\n",
       "    }\n",
       "\n",
       "    .dataframe tbody tr th {\n",
       "        vertical-align: top;\n",
       "    }\n",
       "\n",
       "    .dataframe thead th {\n",
       "        text-align: right;\n",
       "    }\n",
       "</style>\n",
       "<table border=\"1\" class=\"dataframe\">\n",
       "  <thead>\n",
       "    <tr style=\"text-align: right;\">\n",
       "      <th></th>\n",
       "      <th>id</th>\n",
       "      <th>hotelid</th>\n",
       "      <th>hotelname</th>\n",
       "      <th>address</th>\n",
       "      <th>city</th>\n",
       "      <th>country</th>\n",
       "      <th>zipcode</th>\n",
       "      <th>propertytype</th>\n",
       "      <th>starrating</th>\n",
       "      <th>latitude</th>\n",
       "      <th>longitude</th>\n",
       "      <th>Source</th>\n",
       "      <th>url</th>\n",
       "      <th>curr</th>\n",
       "    </tr>\n",
       "  </thead>\n",
       "  <tbody>\n",
       "    <tr>\n",
       "      <th>0</th>\n",
       "      <td>46406</td>\n",
       "      <td>1771651</td>\n",
       "      <td>Mediteran Bungalow Galeb</td>\n",
       "      <td>Vukovarska 7</td>\n",
       "      <td>Omis</td>\n",
       "      <td>Croatia</td>\n",
       "      <td>21310.0</td>\n",
       "      <td>Holiday parks</td>\n",
       "      <td>4</td>\n",
       "      <td>43.440124</td>\n",
       "      <td>16.682505</td>\n",
       "      <td>2</td>\n",
       "      <td>https://www.booking.com/hotel/hr/bungalow-luxu...</td>\n",
       "      <td>EUR</td>\n",
       "    </tr>\n",
       "    <tr>\n",
       "      <th>1</th>\n",
       "      <td>46407</td>\n",
       "      <td>177167</td>\n",
       "      <td>Hotel Polonia</td>\n",
       "      <td>Plac Teatralny 5</td>\n",
       "      <td>Torun</td>\n",
       "      <td>Poland</td>\n",
       "      <td>NaN</td>\n",
       "      <td>Hotels</td>\n",
       "      <td>3</td>\n",
       "      <td>53.012329</td>\n",
       "      <td>18.603800</td>\n",
       "      <td>5</td>\n",
       "      <td>https://www.agoda.com/en-gb/hotel-polonia/hote...</td>\n",
       "      <td>EUR</td>\n",
       "    </tr>\n",
       "    <tr>\n",
       "      <th>2</th>\n",
       "      <td>46408</td>\n",
       "      <td>1771675</td>\n",
       "      <td>Rifugio Sass Bece</td>\n",
       "      <td>Belvedere del Pordoi,1</td>\n",
       "      <td>Canazei</td>\n",
       "      <td>Italy</td>\n",
       "      <td>38032.0</td>\n",
       "      <td>Hotels</td>\n",
       "      <td>3</td>\n",
       "      <td>46.477920</td>\n",
       "      <td>11.813350</td>\n",
       "      <td>2</td>\n",
       "      <td>http://www.booking.com/hotel/it/rifugio-sass-b...</td>\n",
       "      <td>EUR</td>\n",
       "    </tr>\n",
       "    <tr>\n",
       "      <th>3</th>\n",
       "      <td>46409</td>\n",
       "      <td>177168</td>\n",
       "      <td>Madalena Hotel</td>\n",
       "      <td>Mykonos</td>\n",
       "      <td>Mykonos</td>\n",
       "      <td>Greece</td>\n",
       "      <td>84600.0</td>\n",
       "      <td>Hotels</td>\n",
       "      <td>3</td>\n",
       "      <td>37.452316</td>\n",
       "      <td>25.329849</td>\n",
       "      <td>5</td>\n",
       "      <td>https://www.agoda.com/en-gb/madalena-hotel/hot...</td>\n",
       "      <td>EUR</td>\n",
       "    </tr>\n",
       "    <tr>\n",
       "      <th>4</th>\n",
       "      <td>46410</td>\n",
       "      <td>1771718</td>\n",
       "      <td>Pension Morenfeld</td>\n",
       "      <td>Mair im Korn Strasse 2</td>\n",
       "      <td>Lagundo</td>\n",
       "      <td>Italy</td>\n",
       "      <td>39022.0</td>\n",
       "      <td>Hotels</td>\n",
       "      <td>3</td>\n",
       "      <td>46.682780</td>\n",
       "      <td>11.131736</td>\n",
       "      <td>2</td>\n",
       "      <td>http://www.booking.com/hotel/it/pension-morenf...</td>\n",
       "      <td>EUR</td>\n",
       "    </tr>\n",
       "  </tbody>\n",
       "</table>\n",
       "</div>"
      ],
      "text/plain": [
       "      id  hotelid                 hotelname                 address     city  \\\n",
       "0  46406  1771651  Mediteran Bungalow Galeb            Vukovarska 7     Omis   \n",
       "1  46407   177167             Hotel Polonia        Plac Teatralny 5    Torun   \n",
       "2  46408  1771675         Rifugio Sass Bece  Belvedere del Pordoi,1  Canazei   \n",
       "3  46409   177168            Madalena Hotel                 Mykonos  Mykonos   \n",
       "4  46410  1771718         Pension Morenfeld  Mair im Korn Strasse 2  Lagundo   \n",
       "\n",
       "   country  zipcode   propertytype  starrating   latitude  longitude  Source  \\\n",
       "0  Croatia  21310.0  Holiday parks           4  43.440124  16.682505       2   \n",
       "1   Poland      NaN         Hotels           3  53.012329  18.603800       5   \n",
       "2    Italy  38032.0         Hotels           3  46.477920  11.813350       2   \n",
       "3   Greece  84600.0         Hotels           3  37.452316  25.329849       5   \n",
       "4    Italy  39022.0         Hotels           3  46.682780  11.131736       2   \n",
       "\n",
       "                                                 url curr  \n",
       "0  https://www.booking.com/hotel/hr/bungalow-luxu...  EUR  \n",
       "1  https://www.agoda.com/en-gb/hotel-polonia/hote...  EUR  \n",
       "2  http://www.booking.com/hotel/it/rifugio-sass-b...  EUR  \n",
       "3  https://www.agoda.com/en-gb/madalena-hotel/hot...  EUR  \n",
       "4  http://www.booking.com/hotel/it/pension-morenf...  EUR  "
      ]
     },
     "execution_count": 512,
     "metadata": {},
     "output_type": "execute_result"
    }
   ],
   "source": [
    "df_details.head()"
   ]
  },
  {
   "cell_type": "code",
   "execution_count": 513,
   "metadata": {},
   "outputs": [],
   "source": [
    "df_details.drop(['Source','id','url'],axis=1,inplace=True) # deleting scrap variables"
   ]
  },
  {
   "cell_type": "code",
   "execution_count": 514,
   "metadata": {},
   "outputs": [],
   "source": [
    "df_formula= pd.read_csv(\"hotel_price_min_max - Formula.csv\") # loading files\n",
    "df_room_attributes=  pd.read_csv('Hotel_Room_attributes.csv')\n",
    "df_room_price = pd.read_csv(\"hotels_RoomPrice.csv\")  # sincel files price and attributes are almost similar so we will use only price"
   ]
  },
  {
   "cell_type": "code",
   "execution_count": 515,
   "metadata": {},
   "outputs": [
    {
     "name": "stdout",
     "output_type": "stream",
     "text": [
      "(108048, 11)\n",
      "(9094, 6)\n",
      "(165873, 5)\n",
      "(165873, 30)\n"
     ]
    }
   ],
   "source": [
    "print(df_details.shape)\n",
    "print(df_formula.shape)\n",
    "print(df_room_attributes.shape)\n",
    "print(df_room_price.shape)"
   ]
  },
  {
   "cell_type": "markdown",
   "metadata": {},
   "source": [
    "# 1. Data Cleaning"
   ]
  },
  {
   "cell_type": "code",
   "execution_count": 516,
   "metadata": {},
   "outputs": [],
   "source": [
    "df_details.rename(columns={'hotelid':'hotelcode'},inplace=True) # renaming hoteld id with hotelcode to make sure that column hotelcode is same everywhere"
   ]
  },
  {
   "cell_type": "markdown",
   "metadata": {},
   "source": [
    "### a. Merging files"
   ]
  },
  {
   "cell_type": "code",
   "execution_count": 517,
   "metadata": {},
   "outputs": [
    {
     "data": {
      "text/plain": [
       "(9665, 14)"
      ]
     },
     "execution_count": 517,
     "metadata": {},
     "output_type": "execute_result"
    }
   ],
   "source": [
    "merge1=pd.merge(df_details,df_formula[['hotelcode','Score','min','max']],on='hotelcode',how='inner')\n",
    "merge1.shape  # checking the shape of merged files"
   ]
  },
  {
   "cell_type": "code",
   "execution_count": 518,
   "metadata": {},
   "outputs": [
    {
     "data": {
      "text/plain": [
       "(181426, 28)"
      ]
     },
     "execution_count": 518,
     "metadata": {},
     "output_type": "execute_result"
    }
   ],
   "source": [
    "final= pd.merge(merge1,df_room_price[['hotelcode','onsiterate','netrate','roomtype','ratetype','currency','guests','maxoccupancy'\n",
    "         ,'discount','taxstatus','taxtype','ispromo'  ,'ratedescription' ,'roomamenities','israteperstay']]                     \n",
    "                ,on='hotelcode',how='inner')  # merging relevant columns only\n",
    "final.shape  # shape of finally merged files"
   ]
  },
  {
   "cell_type": "code",
   "execution_count": 519,
   "metadata": {},
   "outputs": [
    {
     "data": {
      "text/html": [
       "<div>\n",
       "<style scoped>\n",
       "    .dataframe tbody tr th:only-of-type {\n",
       "        vertical-align: middle;\n",
       "    }\n",
       "\n",
       "    .dataframe tbody tr th {\n",
       "        vertical-align: top;\n",
       "    }\n",
       "\n",
       "    .dataframe thead th {\n",
       "        text-align: right;\n",
       "    }\n",
       "</style>\n",
       "<table border=\"1\" class=\"dataframe\">\n",
       "  <thead>\n",
       "    <tr style=\"text-align: right;\">\n",
       "      <th></th>\n",
       "      <th>hotelcode</th>\n",
       "      <th>hotelname</th>\n",
       "      <th>address</th>\n",
       "      <th>city</th>\n",
       "      <th>country</th>\n",
       "      <th>zipcode</th>\n",
       "      <th>propertytype</th>\n",
       "      <th>starrating</th>\n",
       "      <th>latitude</th>\n",
       "      <th>longitude</th>\n",
       "      <th>curr</th>\n",
       "      <th>Score</th>\n",
       "      <th>min</th>\n",
       "      <th>max</th>\n",
       "      <th>onsiterate</th>\n",
       "      <th>netrate</th>\n",
       "      <th>roomtype</th>\n",
       "      <th>ratetype</th>\n",
       "      <th>currency</th>\n",
       "      <th>guests</th>\n",
       "      <th>maxoccupancy</th>\n",
       "      <th>discount</th>\n",
       "      <th>taxstatus</th>\n",
       "      <th>taxtype</th>\n",
       "      <th>ispromo</th>\n",
       "      <th>ratedescription</th>\n",
       "      <th>roomamenities</th>\n",
       "      <th>israteperstay</th>\n",
       "    </tr>\n",
       "  </thead>\n",
       "  <tbody>\n",
       "    <tr>\n",
       "      <th>0</th>\n",
       "      <td>177234</td>\n",
       "      <td>Elounda Ilion Hotel</td>\n",
       "      <td>Main Street</td>\n",
       "      <td>Crete Island</td>\n",
       "      <td>Greece</td>\n",
       "      <td>72053.0</td>\n",
       "      <td>Hotels</td>\n",
       "      <td>4</td>\n",
       "      <td>35.242699</td>\n",
       "      <td>25.728689</td>\n",
       "      <td>EUR</td>\n",
       "      <td>0.28</td>\n",
       "      <td>49.08</td>\n",
       "      <td>245.36</td>\n",
       "      <td>59.59</td>\n",
       "      <td>141.16</td>\n",
       "      <td>Double Room with Sea View</td>\n",
       "      <td>Extra low price! (non-refundable)</td>\n",
       "      <td>USD</td>\n",
       "      <td>1</td>\n",
       "      <td>1</td>\n",
       "      <td>57.79</td>\n",
       "      <td>2</td>\n",
       "      <td>City tax $ 0.30, Government Tax (Pay at the pr...</td>\n",
       "      <td>Y</td>\n",
       "      <td>Room size: 35 m²/377 ft², Shower, 2 single bed...</td>\n",
       "      <td>Air conditioning: ;Coffee/tea maker: ;Desk: ;F...</td>\n",
       "      <td>Y</td>\n",
       "    </tr>\n",
       "    <tr>\n",
       "      <th>1</th>\n",
       "      <td>177234</td>\n",
       "      <td>Elounda Ilion Hotel</td>\n",
       "      <td>Main Street</td>\n",
       "      <td>Crete Island</td>\n",
       "      <td>Greece</td>\n",
       "      <td>72053.0</td>\n",
       "      <td>Hotels</td>\n",
       "      <td>4</td>\n",
       "      <td>35.242699</td>\n",
       "      <td>25.728689</td>\n",
       "      <td>EUR</td>\n",
       "      <td>0.28</td>\n",
       "      <td>49.08</td>\n",
       "      <td>245.36</td>\n",
       "      <td>49.08</td>\n",
       "      <td>89.07</td>\n",
       "      <td>Double Room with Garden View</td>\n",
       "      <td>Extra low price! (non-refundable)</td>\n",
       "      <td>USD</td>\n",
       "      <td>1</td>\n",
       "      <td>1</td>\n",
       "      <td>44.90</td>\n",
       "      <td>2</td>\n",
       "      <td>City tax $ 0.24, Government Tax (Pay at the pr...</td>\n",
       "      <td>Y</td>\n",
       "      <td>Room size: 30 m²/323 ft², Shower, 1 double bed</td>\n",
       "      <td>Air conditioning: ;Free Wi-Fi in all rooms!: ;...</td>\n",
       "      <td>Y</td>\n",
       "    </tr>\n",
       "    <tr>\n",
       "      <th>2</th>\n",
       "      <td>177234</td>\n",
       "      <td>Elounda Ilion Hotel</td>\n",
       "      <td>Main Street</td>\n",
       "      <td>Crete Island</td>\n",
       "      <td>Greece</td>\n",
       "      <td>72053.0</td>\n",
       "      <td>Hotels</td>\n",
       "      <td>4</td>\n",
       "      <td>35.242699</td>\n",
       "      <td>25.728689</td>\n",
       "      <td>EUR</td>\n",
       "      <td>0.28</td>\n",
       "      <td>49.08</td>\n",
       "      <td>245.36</td>\n",
       "      <td>54.53</td>\n",
       "      <td>89.07</td>\n",
       "      <td>Double Room with Garden View</td>\n",
       "      <td>Cancellation policy, Pay at the hotel</td>\n",
       "      <td>USD</td>\n",
       "      <td>1</td>\n",
       "      <td>1</td>\n",
       "      <td>38.78</td>\n",
       "      <td>2</td>\n",
       "      <td>City tax $ 0.28, Government Tax (Pay at the pr...</td>\n",
       "      <td>Y</td>\n",
       "      <td>Room size: 30 m²/323 ft², Shower, 1 double bed</td>\n",
       "      <td>Air conditioning: ;Free Wi-Fi in all rooms!: ;...</td>\n",
       "      <td>Y</td>\n",
       "    </tr>\n",
       "    <tr>\n",
       "      <th>3</th>\n",
       "      <td>177234</td>\n",
       "      <td>Elounda Ilion Hotel</td>\n",
       "      <td>Main Street</td>\n",
       "      <td>Crete Island</td>\n",
       "      <td>Greece</td>\n",
       "      <td>72053.0</td>\n",
       "      <td>Hotels</td>\n",
       "      <td>4</td>\n",
       "      <td>35.242699</td>\n",
       "      <td>25.728689</td>\n",
       "      <td>EUR</td>\n",
       "      <td>0.28</td>\n",
       "      <td>49.08</td>\n",
       "      <td>245.36</td>\n",
       "      <td>59.59</td>\n",
       "      <td>89.07</td>\n",
       "      <td>Double Room with Garden View</td>\n",
       "      <td>Extra low price! (non-refundable)</td>\n",
       "      <td>USD</td>\n",
       "      <td>1</td>\n",
       "      <td>1</td>\n",
       "      <td>33.10</td>\n",
       "      <td>2</td>\n",
       "      <td>City tax $ 0.30, Government Tax (Pay at the pr...</td>\n",
       "      <td>Y</td>\n",
       "      <td>Room size: 30 m²/323 ft², Shower, 1 double bed</td>\n",
       "      <td>Air conditioning: ;Free Wi-Fi in all rooms!: ;...</td>\n",
       "      <td>Y</td>\n",
       "    </tr>\n",
       "    <tr>\n",
       "      <th>4</th>\n",
       "      <td>177234</td>\n",
       "      <td>Elounda Ilion Hotel</td>\n",
       "      <td>Main Street</td>\n",
       "      <td>Crete Island</td>\n",
       "      <td>Greece</td>\n",
       "      <td>72053.0</td>\n",
       "      <td>Hotels</td>\n",
       "      <td>4</td>\n",
       "      <td>35.242699</td>\n",
       "      <td>25.728689</td>\n",
       "      <td>EUR</td>\n",
       "      <td>0.28</td>\n",
       "      <td>49.08</td>\n",
       "      <td>245.36</td>\n",
       "      <td>61.33</td>\n",
       "      <td>89.07</td>\n",
       "      <td>Double Room with Garden View</td>\n",
       "      <td>Extra low price! (non-refundable)</td>\n",
       "      <td>USD</td>\n",
       "      <td>1</td>\n",
       "      <td>2</td>\n",
       "      <td>31.14</td>\n",
       "      <td>2</td>\n",
       "      <td>City tax $ 0.31, Government Tax (Pay at the pr...</td>\n",
       "      <td>Y</td>\n",
       "      <td>Room size: 30 m²/323 ft², Shower, 1 double bed</td>\n",
       "      <td>Air conditioning: ;Free Wi-Fi in all rooms!: ;...</td>\n",
       "      <td>Y</td>\n",
       "    </tr>\n",
       "  </tbody>\n",
       "</table>\n",
       "</div>"
      ],
      "text/plain": [
       "   hotelcode            hotelname      address          city country  zipcode  \\\n",
       "0     177234  Elounda Ilion Hotel  Main Street  Crete Island  Greece  72053.0   \n",
       "1     177234  Elounda Ilion Hotel  Main Street  Crete Island  Greece  72053.0   \n",
       "2     177234  Elounda Ilion Hotel  Main Street  Crete Island  Greece  72053.0   \n",
       "3     177234  Elounda Ilion Hotel  Main Street  Crete Island  Greece  72053.0   \n",
       "4     177234  Elounda Ilion Hotel  Main Street  Crete Island  Greece  72053.0   \n",
       "\n",
       "  propertytype  starrating   latitude  longitude curr  Score    min     max  \\\n",
       "0       Hotels           4  35.242699  25.728689  EUR   0.28  49.08  245.36   \n",
       "1       Hotels           4  35.242699  25.728689  EUR   0.28  49.08  245.36   \n",
       "2       Hotels           4  35.242699  25.728689  EUR   0.28  49.08  245.36   \n",
       "3       Hotels           4  35.242699  25.728689  EUR   0.28  49.08  245.36   \n",
       "4       Hotels           4  35.242699  25.728689  EUR   0.28  49.08  245.36   \n",
       "\n",
       "   onsiterate  netrate                      roomtype  \\\n",
       "0       59.59   141.16     Double Room with Sea View   \n",
       "1       49.08    89.07  Double Room with Garden View   \n",
       "2       54.53    89.07  Double Room with Garden View   \n",
       "3       59.59    89.07  Double Room with Garden View   \n",
       "4       61.33    89.07  Double Room with Garden View   \n",
       "\n",
       "                                ratetype currency  guests  maxoccupancy  \\\n",
       "0      Extra low price! (non-refundable)      USD       1             1   \n",
       "1      Extra low price! (non-refundable)      USD       1             1   \n",
       "2  Cancellation policy, Pay at the hotel      USD       1             1   \n",
       "3      Extra low price! (non-refundable)      USD       1             1   \n",
       "4      Extra low price! (non-refundable)      USD       1             2   \n",
       "\n",
       "   discount  taxstatus                                            taxtype  \\\n",
       "0     57.79          2  City tax $ 0.30, Government Tax (Pay at the pr...   \n",
       "1     44.90          2  City tax $ 0.24, Government Tax (Pay at the pr...   \n",
       "2     38.78          2  City tax $ 0.28, Government Tax (Pay at the pr...   \n",
       "3     33.10          2  City tax $ 0.30, Government Tax (Pay at the pr...   \n",
       "4     31.14          2  City tax $ 0.31, Government Tax (Pay at the pr...   \n",
       "\n",
       "  ispromo                                    ratedescription  \\\n",
       "0       Y  Room size: 35 m²/377 ft², Shower, 2 single bed...   \n",
       "1       Y     Room size: 30 m²/323 ft², Shower, 1 double bed   \n",
       "2       Y     Room size: 30 m²/323 ft², Shower, 1 double bed   \n",
       "3       Y     Room size: 30 m²/323 ft², Shower, 1 double bed   \n",
       "4       Y     Room size: 30 m²/323 ft², Shower, 1 double bed   \n",
       "\n",
       "                                       roomamenities israteperstay  \n",
       "0  Air conditioning: ;Coffee/tea maker: ;Desk: ;F...             Y  \n",
       "1  Air conditioning: ;Free Wi-Fi in all rooms!: ;...             Y  \n",
       "2  Air conditioning: ;Free Wi-Fi in all rooms!: ;...             Y  \n",
       "3  Air conditioning: ;Free Wi-Fi in all rooms!: ;...             Y  \n",
       "4  Air conditioning: ;Free Wi-Fi in all rooms!: ;...             Y  "
      ]
     },
     "execution_count": 519,
     "metadata": {},
     "output_type": "execute_result"
    }
   ],
   "source": [
    "final.head()  "
   ]
  },
  {
   "cell_type": "markdown",
   "metadata": {},
   "source": [
    "### b. Checking null values"
   ]
  },
  {
   "cell_type": "code",
   "execution_count": 520,
   "metadata": {},
   "outputs": [
    {
     "data": {
      "text/plain": [
       "hotelcode           0.000000\n",
       "hotelname           0.000000\n",
       "address             0.318036\n",
       "city                0.000000\n",
       "country             0.000000\n",
       "zipcode            47.814536\n",
       "propertytype        0.000000\n",
       "starrating          0.000000\n",
       "latitude            0.000000\n",
       "longitude           0.000000\n",
       "curr                0.000000\n",
       "Score               0.000000\n",
       "min                 0.000000\n",
       "max                 0.000000\n",
       "onsiterate          0.000000\n",
       "netrate             0.000000\n",
       "roomtype            0.000000\n",
       "ratetype            2.924057\n",
       "currency            0.000000\n",
       "guests              0.000000\n",
       "maxoccupancy        0.000000\n",
       "discount            0.000000\n",
       "taxstatus           0.000000\n",
       "taxtype             4.940306\n",
       "ispromo             0.000000\n",
       "ratedescription     2.924057\n",
       "roomamenities       2.924057\n",
       "israteperstay       0.000000\n",
       "dtype: float64"
      ]
     },
     "execution_count": 520,
     "metadata": {},
     "output_type": "execute_result"
    }
   ],
   "source": [
    "100*final.isnull().sum() /len(final)# null values are present in the data"
   ]
  },
  {
   "cell_type": "markdown",
   "metadata": {},
   "source": [
    "There are null values present in the ratetype, taxtype, ratediscription, roomamenities, zipcode and  address"
   ]
  },
  {
   "cell_type": "markdown",
   "metadata": {},
   "source": [
    "### c. Checking duplicated rows and dropping these"
   ]
  },
  {
   "cell_type": "code",
   "execution_count": 521,
   "metadata": {},
   "outputs": [
    {
     "data": {
      "text/plain": [
       "4520"
      ]
     },
     "execution_count": 521,
     "metadata": {},
     "output_type": "execute_result"
    }
   ],
   "source": [
    "final.duplicated().sum() # duplicated rows are there in the file"
   ]
  },
  {
   "cell_type": "code",
   "execution_count": 522,
   "metadata": {},
   "outputs": [],
   "source": [
    "final.drop_duplicates(subset='hotelcode',inplace=True)"
   ]
  },
  {
   "cell_type": "code",
   "execution_count": 523,
   "metadata": {},
   "outputs": [],
   "source": [
    "final.drop_duplicates(inplace=True) # dropping duplicated rows"
   ]
  },
  {
   "cell_type": "code",
   "execution_count": 524,
   "metadata": {},
   "outputs": [],
   "source": [
    "final.reset_index(inplace=True)"
   ]
  },
  {
   "cell_type": "code",
   "execution_count": 525,
   "metadata": {},
   "outputs": [],
   "source": [
    "final.drop('index',axis=1,inplace=True)"
   ]
  },
  {
   "cell_type": "code",
   "execution_count": 526,
   "metadata": {},
   "outputs": [
    {
     "data": {
      "text/plain": [
       "0"
      ]
     },
     "execution_count": 526,
     "metadata": {},
     "output_type": "execute_result"
    }
   ],
   "source": [
    "final.duplicated().sum()  # checking if there is any duplicated values there or not after treatment"
   ]
  },
  {
   "cell_type": "code",
   "execution_count": 527,
   "metadata": {},
   "outputs": [
    {
     "name": "stdout",
     "output_type": "stream",
     "text": [
      "<class 'pandas.core.frame.DataFrame'>\n",
      "RangeIndex: 9093 entries, 0 to 9092\n",
      "Data columns (total 28 columns):\n",
      " #   Column           Non-Null Count  Dtype  \n",
      "---  ------           --------------  -----  \n",
      " 0   hotelcode        9093 non-null   int64  \n",
      " 1   hotelname        9093 non-null   object \n",
      " 2   address          8665 non-null   object \n",
      " 3   city             9093 non-null   object \n",
      " 4   country          9093 non-null   object \n",
      " 5   zipcode          4866 non-null   float64\n",
      " 6   propertytype     9093 non-null   object \n",
      " 7   starrating       9093 non-null   int64  \n",
      " 8   latitude         9093 non-null   float64\n",
      " 9   longitude        9093 non-null   float64\n",
      " 10  curr             9093 non-null   object \n",
      " 11  Score            9093 non-null   float64\n",
      " 12  min              9093 non-null   float64\n",
      " 13  max              9093 non-null   float64\n",
      " 14  onsiterate       9093 non-null   float64\n",
      " 15  netrate          9093 non-null   float64\n",
      " 16  roomtype         9093 non-null   object \n",
      " 17  ratetype         8900 non-null   object \n",
      " 18  currency         9093 non-null   object \n",
      " 19  guests           9093 non-null   int64  \n",
      " 20  maxoccupancy     9093 non-null   int64  \n",
      " 21  discount         9093 non-null   float64\n",
      " 22  taxstatus        9093 non-null   int64  \n",
      " 23  taxtype          8141 non-null   object \n",
      " 24  ispromo          9093 non-null   object \n",
      " 25  ratedescription  8900 non-null   object \n",
      " 26  roomamenities    8900 non-null   object \n",
      " 27  israteperstay    9093 non-null   object \n",
      "dtypes: float64(9), int64(5), object(14)\n",
      "memory usage: 1.9+ MB\n"
     ]
    }
   ],
   "source": [
    "final.info() # checking the data type for necessary conversion if required"
   ]
  },
  {
   "cell_type": "code",
   "execution_count": 528,
   "metadata": {},
   "outputs": [],
   "source": [
    "final['zipcode'] = final['zipcode'].astype(object)  # converting zipcode into object"
   ]
  },
  {
   "cell_type": "markdown",
   "metadata": {},
   "source": [
    "### d. Replacing null values with category naming as other"
   ]
  },
  {
   "cell_type": "code",
   "execution_count": 529,
   "metadata": {},
   "outputs": [],
   "source": [
    "final['address'] = final['address'].fillna(value='Other')\n",
    "final['zipcode'] = final['zipcode'].fillna(value='Other')\n",
    "final['ratetype'] = final['ratetype'].fillna(value=\"Other\")\n",
    "final['ratedescription'] = final['ratedescription'].fillna(value=\"Other\")\n",
    "final['roomamenities'] = final['roomamenities'].fillna(value=\"Other\")\n",
    "final['taxtype'] = final['taxtype'].fillna(value=\"Other\")"
   ]
  },
  {
   "cell_type": "code",
   "execution_count": 530,
   "metadata": {},
   "outputs": [
    {
     "data": {
      "text/plain": [
       "(9093, 28)"
      ]
     },
     "execution_count": 530,
     "metadata": {},
     "output_type": "execute_result"
    }
   ],
   "source": [
    "final.shape"
   ]
  },
  {
   "cell_type": "markdown",
   "metadata": {},
   "source": [
    "### e. Extracting information from the columns ( roomtype, ratedescription)"
   ]
  },
  {
   "cell_type": "code",
   "execution_count": 531,
   "metadata": {},
   "outputs": [],
   "source": [
    "final['Room size']=final['ratedescription'].str.split(',')"
   ]
  },
  {
   "cell_type": "code",
   "execution_count": 532,
   "metadata": {},
   "outputs": [],
   "source": [
    "final['Room size']=final['Room size'].apply(lambda x: x[0])"
   ]
  },
  {
   "cell_type": "code",
   "execution_count": 533,
   "metadata": {},
   "outputs": [],
   "source": [
    "final['Room size']=final['Room size'].replace(['Free Wi-Fi','Shower','Free Breakfast','Other','Non-smoking','Shower and bathtub',\n",
    "'Balcony/terrace','Separate shower/bathtub','Free breakfast for {0}','Pay at the hotel','Bathtub','Street view','City view',\n",
    "'Extra low price! (non-refundable)','2 bathrooms','Free Breakfast for 1','Garden view','Shared bathroom','Pay nothing until October 23',\n",
    "'Sea view','Pay nothing until December 21','Nature view','Pay nothing until October 16','Pay nothing until December 6'],'Others')"
   ]
  },
  {
   "cell_type": "code",
   "execution_count": 534,
   "metadata": {},
   "outputs": [],
   "source": [
    "final['Room size']=final['Room size'].replace(['Pay nothing until December 4','Pay nothing until November 8','Pay nothing until November 13','Pay nothing until October 15','Pay nothing until November 23','Pay nothing until October 26','Pay nothing until October 29','Pay nothing until December 7','Pay nothing until October 31','Pay nothing until November 24','Pay nothing until October 19','Pay nothing until November 9','Pay nothing until November 19','Kitchenette','3 bathrooms','Courtyard view','Pay nothing until January 2','Pay nothing until October 30','7 bathrooms','Book without credit card','Smoking allowed','Free cancellation before October 25',\n",
    "'6 bathrooms','Lake view','Pay nothing until January 7','3 bedrooms','Free WiFi','4 bedrooms','Pay nothing until December 27','Ocean view'],'Others')"
   ]
  },
  {
   "cell_type": "code",
   "execution_count": 535,
   "metadata": {},
   "outputs": [],
   "source": [
    "final['Room size']=final['Room size'].replace(['Pay nothing until December 10','Pay nothing until November 16','Pay nothing until November 11','Pay nothing until November 18','Pay nothing until December 16','Pay nothing until November 17',\n",
    "'No Windows view','Pay nothing until November 14','Pay nothing until November 21','Pay nothing until November 27','Pay nothing until December 19','Pay nothing until January 4','Pay nothing until January 3','Pay nothing until November 29','Pay nothing until November 10',\n",
    "'Pay nothing until November 28','Pay nothing until January 1','Pay nothing until December 5','Pay nothing until December 17','Pay nothing until November 12','Pay nothing until October 17','2 bedrooms','Pool view','Mountain view','Cancellation policy','Pay nothing until November 1'],'Others')"
   ]
  },
  {
   "cell_type": "code",
   "execution_count": 536,
   "metadata": {},
   "outputs": [],
   "source": [
    "final['Room size']=final['Room size'].replace(['Beach view','Partial sea view','Private pool','All Inclusive','Pay nothing until December 26','4 bathrooms','5 bathrooms','Pay nothing until December 23','Pay nothing until November 22','Pay nothing until December 25','Pay nothing until October 27','Pay nothing until December 13','Pay nothing until October 24','Pay nothing until October 22','Pay nothing until December 15','Pay nothing until December 22','Pay nothing until November 6','Pay nothing until December 9','Pay nothing until November 4','Pay nothing until October 18','Pay nothing until October 20','Pay nothing until November 20','Pay nothing until December 11 ','Pay nothing until December 29'],'Others')"
   ]
  },
  {
   "cell_type": "code",
   "execution_count": 537,
   "metadata": {},
   "outputs": [],
   "source": [
    "final['Room size']=final['Room size'].replace(['Country/region view','Pay nothing until December 24','Park view','Pay nothing until November 25','Pay nothing until December 8','Pay nothing until October 25','Pay nothing until December 1','Pay nothing until December 31','River view'],'Others')"
   ]
  },
  {
   "cell_type": "code",
   "execution_count": 538,
   "metadata": {},
   "outputs": [],
   "source": [
    "final['Room size']=final['Room size'].replace(['Pay nothing until December 11','Pay nothing until October 28','Pay nothing until December 30','Pay nothing until December 18'],'Others')"
   ]
  },
  {
   "cell_type": "code",
   "execution_count": 539,
   "metadata": {},
   "outputs": [],
   "source": [
    "final['Room size']=final['Room size'].replace(['Pay nothing until November 26','Pay nothing until December 28','Pay nothing until November 15'\n",
    "'Pay nothing until December 2','Pay nothing until November 7','Pay nothing until October 14','Pay nothing until December 3','Pay nothing until November 5 ',\n",
    "'Pay nothing until December 14 ','Pay nothing until December 20','Pay nothing until January 5','Pay nothing until December 12','Pay nothing until November 30',\n",
    "'Pay nothing until October 21','Pay nothing until October 13','Pay nothing until November 3'],'Others')"
   ]
  },
  {
   "cell_type": "code",
   "execution_count": 540,
   "metadata": {},
   "outputs": [
    {
     "data": {
      "text/html": [
       "<div>\n",
       "<style scoped>\n",
       "    .dataframe tbody tr th:only-of-type {\n",
       "        vertical-align: middle;\n",
       "    }\n",
       "\n",
       "    .dataframe tbody tr th {\n",
       "        vertical-align: top;\n",
       "    }\n",
       "\n",
       "    .dataframe thead th {\n",
       "        text-align: right;\n",
       "    }\n",
       "</style>\n",
       "<table border=\"1\" class=\"dataframe\">\n",
       "  <thead>\n",
       "    <tr style=\"text-align: right;\">\n",
       "      <th></th>\n",
       "      <th>hotelcode</th>\n",
       "      <th>hotelname</th>\n",
       "      <th>address</th>\n",
       "      <th>city</th>\n",
       "      <th>country</th>\n",
       "      <th>zipcode</th>\n",
       "      <th>propertytype</th>\n",
       "      <th>starrating</th>\n",
       "      <th>latitude</th>\n",
       "      <th>longitude</th>\n",
       "      <th>curr</th>\n",
       "      <th>Score</th>\n",
       "      <th>min</th>\n",
       "      <th>max</th>\n",
       "      <th>onsiterate</th>\n",
       "      <th>netrate</th>\n",
       "      <th>roomtype</th>\n",
       "      <th>ratetype</th>\n",
       "      <th>currency</th>\n",
       "      <th>guests</th>\n",
       "      <th>maxoccupancy</th>\n",
       "      <th>discount</th>\n",
       "      <th>taxstatus</th>\n",
       "      <th>taxtype</th>\n",
       "      <th>ispromo</th>\n",
       "      <th>ratedescription</th>\n",
       "      <th>roomamenities</th>\n",
       "      <th>israteperstay</th>\n",
       "      <th>Room size</th>\n",
       "    </tr>\n",
       "  </thead>\n",
       "  <tbody>\n",
       "    <tr>\n",
       "      <th>0</th>\n",
       "      <td>177234</td>\n",
       "      <td>Elounda Ilion Hotel</td>\n",
       "      <td>Main Street</td>\n",
       "      <td>Crete Island</td>\n",
       "      <td>Greece</td>\n",
       "      <td>72053</td>\n",
       "      <td>Hotels</td>\n",
       "      <td>4</td>\n",
       "      <td>35.242699</td>\n",
       "      <td>25.728689</td>\n",
       "      <td>EUR</td>\n",
       "      <td>0.28</td>\n",
       "      <td>49.08</td>\n",
       "      <td>245.36</td>\n",
       "      <td>59.59</td>\n",
       "      <td>141.16</td>\n",
       "      <td>Double Room with Sea View</td>\n",
       "      <td>Extra low price! (non-refundable)</td>\n",
       "      <td>USD</td>\n",
       "      <td>1</td>\n",
       "      <td>1</td>\n",
       "      <td>57.79</td>\n",
       "      <td>2</td>\n",
       "      <td>City tax $ 0.30, Government Tax (Pay at the pr...</td>\n",
       "      <td>Y</td>\n",
       "      <td>Room size: 35 m²/377 ft², Shower, 2 single bed...</td>\n",
       "      <td>Air conditioning: ;Coffee/tea maker: ;Desk: ;F...</td>\n",
       "      <td>Y</td>\n",
       "      <td>Room size: 35 m²/377 ft²</td>\n",
       "    </tr>\n",
       "    <tr>\n",
       "      <th>1</th>\n",
       "      <td>177240</td>\n",
       "      <td>Maistrali Hotel</td>\n",
       "      <td>Tragaki Beach</td>\n",
       "      <td>Zakynthos Island</td>\n",
       "      <td>Greece</td>\n",
       "      <td>29100</td>\n",
       "      <td>Hotels</td>\n",
       "      <td>2</td>\n",
       "      <td>37.826958</td>\n",
       "      <td>20.841570</td>\n",
       "      <td>EUR</td>\n",
       "      <td>0.35</td>\n",
       "      <td>58.53</td>\n",
       "      <td>77.58</td>\n",
       "      <td>58.53</td>\n",
       "      <td>0.00</td>\n",
       "      <td>Double Capacity 2</td>\n",
       "      <td>Cancellation policy</td>\n",
       "      <td>USD</td>\n",
       "      <td>1</td>\n",
       "      <td>1</td>\n",
       "      <td>0.00</td>\n",
       "      <td>2</td>\n",
       "      <td>Tax 13%</td>\n",
       "      <td>N</td>\n",
       "      <td>Free Breakfast, Free Wi-Fi, Cancellation policy</td>\n",
       "      <td>Air conditioning: ;Free Wi-Fi in all rooms!: ;...</td>\n",
       "      <td>Y</td>\n",
       "      <td>Others</td>\n",
       "    </tr>\n",
       "    <tr>\n",
       "      <th>2</th>\n",
       "      <td>177242</td>\n",
       "      <td>Margarita Hotel</td>\n",
       "      <td>Main Street</td>\n",
       "      <td>Santorini</td>\n",
       "      <td>Greece</td>\n",
       "      <td>84700</td>\n",
       "      <td>Hotels</td>\n",
       "      <td>2</td>\n",
       "      <td>36.425270</td>\n",
       "      <td>25.429930</td>\n",
       "      <td>EUR</td>\n",
       "      <td>0.12</td>\n",
       "      <td>63.29</td>\n",
       "      <td>213.24</td>\n",
       "      <td>63.29</td>\n",
       "      <td>0.00</td>\n",
       "      <td>Double or Twin Room</td>\n",
       "      <td>Extra low price! (non-refundable)</td>\n",
       "      <td>USD</td>\n",
       "      <td>1</td>\n",
       "      <td>2</td>\n",
       "      <td>0.00</td>\n",
       "      <td>2</td>\n",
       "      <td>City tax $ 0.32, Government Tax (Pay at the pr...</td>\n",
       "      <td>N</td>\n",
       "      <td>Room size: 17 m²/183 ft², Balcony/terrace, Sho...</td>\n",
       "      <td>Air conditioning: ;Closet: ;Desk: ;Free Wi-Fi ...</td>\n",
       "      <td>Y</td>\n",
       "      <td>Room size: 17 m²/183 ft²</td>\n",
       "    </tr>\n",
       "    <tr>\n",
       "      <th>3</th>\n",
       "      <td>177255</td>\n",
       "      <td>Sellada Beach Hotel</td>\n",
       "      <td>Perissa</td>\n",
       "      <td>Santorini</td>\n",
       "      <td>Greece</td>\n",
       "      <td>84703</td>\n",
       "      <td>Hotels</td>\n",
       "      <td>4</td>\n",
       "      <td>36.353432</td>\n",
       "      <td>25.472145</td>\n",
       "      <td>EUR</td>\n",
       "      <td>0.16</td>\n",
       "      <td>86.61</td>\n",
       "      <td>148.98</td>\n",
       "      <td>86.61</td>\n",
       "      <td>0.00</td>\n",
       "      <td>Double</td>\n",
       "      <td>Extra low price! (non-refundable)</td>\n",
       "      <td>USD</td>\n",
       "      <td>1</td>\n",
       "      <td>1</td>\n",
       "      <td>0.00</td>\n",
       "      <td>2</td>\n",
       "      <td>Tax 13%</td>\n",
       "      <td>N</td>\n",
       "      <td>Room size: 18 m²/194 ft², Pool view, Balcony/t...</td>\n",
       "      <td>Air conditioning: ;Closet: ;Clothes rack: ;Cof...</td>\n",
       "      <td>Y</td>\n",
       "      <td>Room size: 18 m²/194 ft²</td>\n",
       "    </tr>\n",
       "    <tr>\n",
       "      <th>4</th>\n",
       "      <td>177408</td>\n",
       "      <td>Hotel Krone</td>\n",
       "      <td>Rainerstrasse 1</td>\n",
       "      <td>Mondsee</td>\n",
       "      <td>Austria</td>\n",
       "      <td>5310</td>\n",
       "      <td>Hotels</td>\n",
       "      <td>4</td>\n",
       "      <td>47.855227</td>\n",
       "      <td>13.350021</td>\n",
       "      <td>EUR</td>\n",
       "      <td>0.34</td>\n",
       "      <td>45.71</td>\n",
       "      <td>115.28</td>\n",
       "      <td>65.30</td>\n",
       "      <td>0.00</td>\n",
       "      <td>Twin Room</td>\n",
       "      <td>FREE cancellation, Pay at the hotel</td>\n",
       "      <td>USD</td>\n",
       "      <td>1</td>\n",
       "      <td>1</td>\n",
       "      <td>0.00</td>\n",
       "      <td>2</td>\n",
       "      <td>City tax (Pay at the property) $ 1.33, VAT $ 6.53</td>\n",
       "      <td>N</td>\n",
       "      <td>Room size: 11 m²/118 ft², Street view, Non-smo...</td>\n",
       "      <td>Air conditioning: ;Blackout curtains: ;Carpeti...</td>\n",
       "      <td>Y</td>\n",
       "      <td>Room size: 11 m²/118 ft²</td>\n",
       "    </tr>\n",
       "  </tbody>\n",
       "</table>\n",
       "</div>"
      ],
      "text/plain": [
       "   hotelcode            hotelname          address              city  country  \\\n",
       "0     177234  Elounda Ilion Hotel      Main Street      Crete Island   Greece   \n",
       "1     177240      Maistrali Hotel    Tragaki Beach  Zakynthos Island   Greece   \n",
       "2     177242      Margarita Hotel      Main Street         Santorini   Greece   \n",
       "3     177255  Sellada Beach Hotel          Perissa         Santorini   Greece   \n",
       "4     177408          Hotel Krone  Rainerstrasse 1           Mondsee  Austria   \n",
       "\n",
       "  zipcode propertytype  starrating   latitude  longitude curr  Score    min  \\\n",
       "0   72053       Hotels           4  35.242699  25.728689  EUR   0.28  49.08   \n",
       "1   29100       Hotels           2  37.826958  20.841570  EUR   0.35  58.53   \n",
       "2   84700       Hotels           2  36.425270  25.429930  EUR   0.12  63.29   \n",
       "3   84703       Hotels           4  36.353432  25.472145  EUR   0.16  86.61   \n",
       "4    5310       Hotels           4  47.855227  13.350021  EUR   0.34  45.71   \n",
       "\n",
       "      max  onsiterate  netrate                   roomtype  \\\n",
       "0  245.36       59.59   141.16  Double Room with Sea View   \n",
       "1   77.58       58.53     0.00          Double Capacity 2   \n",
       "2  213.24       63.29     0.00        Double or Twin Room   \n",
       "3  148.98       86.61     0.00                    Double    \n",
       "4  115.28       65.30     0.00                  Twin Room   \n",
       "\n",
       "                              ratetype currency  guests  maxoccupancy  \\\n",
       "0    Extra low price! (non-refundable)      USD       1             1   \n",
       "1                  Cancellation policy      USD       1             1   \n",
       "2    Extra low price! (non-refundable)      USD       1             2   \n",
       "3    Extra low price! (non-refundable)      USD       1             1   \n",
       "4  FREE cancellation, Pay at the hotel      USD       1             1   \n",
       "\n",
       "   discount  taxstatus                                            taxtype  \\\n",
       "0     57.79          2  City tax $ 0.30, Government Tax (Pay at the pr...   \n",
       "1      0.00          2                                            Tax 13%   \n",
       "2      0.00          2  City tax $ 0.32, Government Tax (Pay at the pr...   \n",
       "3      0.00          2                                            Tax 13%   \n",
       "4      0.00          2  City tax (Pay at the property) $ 1.33, VAT $ 6.53   \n",
       "\n",
       "  ispromo                                    ratedescription  \\\n",
       "0       Y  Room size: 35 m²/377 ft², Shower, 2 single bed...   \n",
       "1       N    Free Breakfast, Free Wi-Fi, Cancellation policy   \n",
       "2       N  Room size: 17 m²/183 ft², Balcony/terrace, Sho...   \n",
       "3       N  Room size: 18 m²/194 ft², Pool view, Balcony/t...   \n",
       "4       N  Room size: 11 m²/118 ft², Street view, Non-smo...   \n",
       "\n",
       "                                       roomamenities israteperstay  \\\n",
       "0  Air conditioning: ;Coffee/tea maker: ;Desk: ;F...             Y   \n",
       "1  Air conditioning: ;Free Wi-Fi in all rooms!: ;...             Y   \n",
       "2  Air conditioning: ;Closet: ;Desk: ;Free Wi-Fi ...             Y   \n",
       "3  Air conditioning: ;Closet: ;Clothes rack: ;Cof...             Y   \n",
       "4  Air conditioning: ;Blackout curtains: ;Carpeti...             Y   \n",
       "\n",
       "                  Room size  \n",
       "0  Room size: 35 m²/377 ft²  \n",
       "1                    Others  \n",
       "2  Room size: 17 m²/183 ft²  \n",
       "3  Room size: 18 m²/194 ft²  \n",
       "4  Room size: 11 m²/118 ft²  "
      ]
     },
     "execution_count": 540,
     "metadata": {},
     "output_type": "execute_result"
    }
   ],
   "source": [
    "final.head()"
   ]
  },
  {
   "cell_type": "code",
   "execution_count": 541,
   "metadata": {},
   "outputs": [],
   "source": [
    "final=final.drop(['ratedescription'],axis=1) # as relevant information has been taken out, so dropping the ratedescription now"
   ]
  },
  {
   "cell_type": "code",
   "execution_count": 542,
   "metadata": {},
   "outputs": [],
   "source": [
    "room_amenities = final['roomamenities'].str.get_dummies(sep=';')\n",
    "room_amenities = room_amenities[['Air conditioning: ','Coffee/tea maker: ','Wi-Fi [free]: ','Toiletries: ']]"
   ]
  },
  {
   "cell_type": "code",
   "execution_count": 543,
   "metadata": {},
   "outputs": [
    {
     "data": {
      "text/html": [
       "<div>\n",
       "<style scoped>\n",
       "    .dataframe tbody tr th:only-of-type {\n",
       "        vertical-align: middle;\n",
       "    }\n",
       "\n",
       "    .dataframe tbody tr th {\n",
       "        vertical-align: top;\n",
       "    }\n",
       "\n",
       "    .dataframe thead th {\n",
       "        text-align: right;\n",
       "    }\n",
       "</style>\n",
       "<table border=\"1\" class=\"dataframe\">\n",
       "  <thead>\n",
       "    <tr style=\"text-align: right;\">\n",
       "      <th></th>\n",
       "      <th>Air conditioning:</th>\n",
       "      <th>Coffee/tea maker:</th>\n",
       "      <th>Wi-Fi [free]:</th>\n",
       "      <th>Toiletries:</th>\n",
       "    </tr>\n",
       "  </thead>\n",
       "  <tbody>\n",
       "    <tr>\n",
       "      <th>0</th>\n",
       "      <td>1</td>\n",
       "      <td>1</td>\n",
       "      <td>0</td>\n",
       "      <td>1</td>\n",
       "    </tr>\n",
       "    <tr>\n",
       "      <th>1</th>\n",
       "      <td>1</td>\n",
       "      <td>0</td>\n",
       "      <td>0</td>\n",
       "      <td>0</td>\n",
       "    </tr>\n",
       "    <tr>\n",
       "      <th>2</th>\n",
       "      <td>1</td>\n",
       "      <td>0</td>\n",
       "      <td>0</td>\n",
       "      <td>1</td>\n",
       "    </tr>\n",
       "    <tr>\n",
       "      <th>3</th>\n",
       "      <td>1</td>\n",
       "      <td>1</td>\n",
       "      <td>0</td>\n",
       "      <td>1</td>\n",
       "    </tr>\n",
       "    <tr>\n",
       "      <th>4</th>\n",
       "      <td>1</td>\n",
       "      <td>1</td>\n",
       "      <td>0</td>\n",
       "      <td>1</td>\n",
       "    </tr>\n",
       "  </tbody>\n",
       "</table>\n",
       "</div>"
      ],
      "text/plain": [
       "   Air conditioning:   Coffee/tea maker:   Wi-Fi [free]:   Toiletries: \n",
       "0                   1                   1               0             1\n",
       "1                   1                   0               0             0\n",
       "2                   1                   0               0             1\n",
       "3                   1                   1               0             1\n",
       "4                   1                   1               0             1"
      ]
     },
     "execution_count": 543,
     "metadata": {},
     "output_type": "execute_result"
    }
   ],
   "source": [
    "room_amenities.head()"
   ]
  },
  {
   "cell_type": "code",
   "execution_count": 544,
   "metadata": {},
   "outputs": [],
   "source": [
    "hotel_data = pd.concat([final, room_amenities], axis=1)"
   ]
  },
  {
   "cell_type": "code",
   "execution_count": 545,
   "metadata": {},
   "outputs": [],
   "source": [
    "hotel_data=hotel_data.drop(['roomamenities'],axis=1) # dropping roomameities as relevant ifnformation has been taken out from it"
   ]
  },
  {
   "cell_type": "code",
   "execution_count": 546,
   "metadata": {},
   "outputs": [
    {
     "data": {
      "text/html": [
       "<div>\n",
       "<style scoped>\n",
       "    .dataframe tbody tr th:only-of-type {\n",
       "        vertical-align: middle;\n",
       "    }\n",
       "\n",
       "    .dataframe tbody tr th {\n",
       "        vertical-align: top;\n",
       "    }\n",
       "\n",
       "    .dataframe thead th {\n",
       "        text-align: right;\n",
       "    }\n",
       "</style>\n",
       "<table border=\"1\" class=\"dataframe\">\n",
       "  <thead>\n",
       "    <tr style=\"text-align: right;\">\n",
       "      <th></th>\n",
       "      <th>hotelcode</th>\n",
       "      <th>hotelname</th>\n",
       "      <th>address</th>\n",
       "      <th>city</th>\n",
       "      <th>country</th>\n",
       "      <th>zipcode</th>\n",
       "      <th>propertytype</th>\n",
       "      <th>starrating</th>\n",
       "      <th>latitude</th>\n",
       "      <th>longitude</th>\n",
       "      <th>curr</th>\n",
       "      <th>Score</th>\n",
       "      <th>min</th>\n",
       "      <th>max</th>\n",
       "      <th>onsiterate</th>\n",
       "      <th>netrate</th>\n",
       "      <th>roomtype</th>\n",
       "      <th>ratetype</th>\n",
       "      <th>currency</th>\n",
       "      <th>guests</th>\n",
       "      <th>maxoccupancy</th>\n",
       "      <th>discount</th>\n",
       "      <th>taxstatus</th>\n",
       "      <th>taxtype</th>\n",
       "      <th>ispromo</th>\n",
       "      <th>israteperstay</th>\n",
       "      <th>Room size</th>\n",
       "      <th>Air conditioning:</th>\n",
       "      <th>Coffee/tea maker:</th>\n",
       "      <th>Wi-Fi [free]:</th>\n",
       "      <th>Toiletries:</th>\n",
       "    </tr>\n",
       "  </thead>\n",
       "  <tbody>\n",
       "    <tr>\n",
       "      <th>0</th>\n",
       "      <td>177234</td>\n",
       "      <td>Elounda Ilion Hotel</td>\n",
       "      <td>Main Street</td>\n",
       "      <td>Crete Island</td>\n",
       "      <td>Greece</td>\n",
       "      <td>72053</td>\n",
       "      <td>Hotels</td>\n",
       "      <td>4</td>\n",
       "      <td>35.242699</td>\n",
       "      <td>25.728689</td>\n",
       "      <td>EUR</td>\n",
       "      <td>0.28</td>\n",
       "      <td>49.08</td>\n",
       "      <td>245.36</td>\n",
       "      <td>59.59</td>\n",
       "      <td>141.16</td>\n",
       "      <td>Double Room with Sea View</td>\n",
       "      <td>Extra low price! (non-refundable)</td>\n",
       "      <td>USD</td>\n",
       "      <td>1</td>\n",
       "      <td>1</td>\n",
       "      <td>57.79</td>\n",
       "      <td>2</td>\n",
       "      <td>City tax $ 0.30, Government Tax (Pay at the pr...</td>\n",
       "      <td>Y</td>\n",
       "      <td>Y</td>\n",
       "      <td>Room size: 35 m²/377 ft²</td>\n",
       "      <td>1</td>\n",
       "      <td>1</td>\n",
       "      <td>0</td>\n",
       "      <td>1</td>\n",
       "    </tr>\n",
       "    <tr>\n",
       "      <th>1</th>\n",
       "      <td>177240</td>\n",
       "      <td>Maistrali Hotel</td>\n",
       "      <td>Tragaki Beach</td>\n",
       "      <td>Zakynthos Island</td>\n",
       "      <td>Greece</td>\n",
       "      <td>29100</td>\n",
       "      <td>Hotels</td>\n",
       "      <td>2</td>\n",
       "      <td>37.826958</td>\n",
       "      <td>20.841570</td>\n",
       "      <td>EUR</td>\n",
       "      <td>0.35</td>\n",
       "      <td>58.53</td>\n",
       "      <td>77.58</td>\n",
       "      <td>58.53</td>\n",
       "      <td>0.00</td>\n",
       "      <td>Double Capacity 2</td>\n",
       "      <td>Cancellation policy</td>\n",
       "      <td>USD</td>\n",
       "      <td>1</td>\n",
       "      <td>1</td>\n",
       "      <td>0.00</td>\n",
       "      <td>2</td>\n",
       "      <td>Tax 13%</td>\n",
       "      <td>N</td>\n",
       "      <td>Y</td>\n",
       "      <td>Others</td>\n",
       "      <td>1</td>\n",
       "      <td>0</td>\n",
       "      <td>0</td>\n",
       "      <td>0</td>\n",
       "    </tr>\n",
       "    <tr>\n",
       "      <th>2</th>\n",
       "      <td>177242</td>\n",
       "      <td>Margarita Hotel</td>\n",
       "      <td>Main Street</td>\n",
       "      <td>Santorini</td>\n",
       "      <td>Greece</td>\n",
       "      <td>84700</td>\n",
       "      <td>Hotels</td>\n",
       "      <td>2</td>\n",
       "      <td>36.425270</td>\n",
       "      <td>25.429930</td>\n",
       "      <td>EUR</td>\n",
       "      <td>0.12</td>\n",
       "      <td>63.29</td>\n",
       "      <td>213.24</td>\n",
       "      <td>63.29</td>\n",
       "      <td>0.00</td>\n",
       "      <td>Double or Twin Room</td>\n",
       "      <td>Extra low price! (non-refundable)</td>\n",
       "      <td>USD</td>\n",
       "      <td>1</td>\n",
       "      <td>2</td>\n",
       "      <td>0.00</td>\n",
       "      <td>2</td>\n",
       "      <td>City tax $ 0.32, Government Tax (Pay at the pr...</td>\n",
       "      <td>N</td>\n",
       "      <td>Y</td>\n",
       "      <td>Room size: 17 m²/183 ft²</td>\n",
       "      <td>1</td>\n",
       "      <td>0</td>\n",
       "      <td>0</td>\n",
       "      <td>1</td>\n",
       "    </tr>\n",
       "    <tr>\n",
       "      <th>3</th>\n",
       "      <td>177255</td>\n",
       "      <td>Sellada Beach Hotel</td>\n",
       "      <td>Perissa</td>\n",
       "      <td>Santorini</td>\n",
       "      <td>Greece</td>\n",
       "      <td>84703</td>\n",
       "      <td>Hotels</td>\n",
       "      <td>4</td>\n",
       "      <td>36.353432</td>\n",
       "      <td>25.472145</td>\n",
       "      <td>EUR</td>\n",
       "      <td>0.16</td>\n",
       "      <td>86.61</td>\n",
       "      <td>148.98</td>\n",
       "      <td>86.61</td>\n",
       "      <td>0.00</td>\n",
       "      <td>Double</td>\n",
       "      <td>Extra low price! (non-refundable)</td>\n",
       "      <td>USD</td>\n",
       "      <td>1</td>\n",
       "      <td>1</td>\n",
       "      <td>0.00</td>\n",
       "      <td>2</td>\n",
       "      <td>Tax 13%</td>\n",
       "      <td>N</td>\n",
       "      <td>Y</td>\n",
       "      <td>Room size: 18 m²/194 ft²</td>\n",
       "      <td>1</td>\n",
       "      <td>1</td>\n",
       "      <td>0</td>\n",
       "      <td>1</td>\n",
       "    </tr>\n",
       "    <tr>\n",
       "      <th>4</th>\n",
       "      <td>177408</td>\n",
       "      <td>Hotel Krone</td>\n",
       "      <td>Rainerstrasse 1</td>\n",
       "      <td>Mondsee</td>\n",
       "      <td>Austria</td>\n",
       "      <td>5310</td>\n",
       "      <td>Hotels</td>\n",
       "      <td>4</td>\n",
       "      <td>47.855227</td>\n",
       "      <td>13.350021</td>\n",
       "      <td>EUR</td>\n",
       "      <td>0.34</td>\n",
       "      <td>45.71</td>\n",
       "      <td>115.28</td>\n",
       "      <td>65.30</td>\n",
       "      <td>0.00</td>\n",
       "      <td>Twin Room</td>\n",
       "      <td>FREE cancellation, Pay at the hotel</td>\n",
       "      <td>USD</td>\n",
       "      <td>1</td>\n",
       "      <td>1</td>\n",
       "      <td>0.00</td>\n",
       "      <td>2</td>\n",
       "      <td>City tax (Pay at the property) $ 1.33, VAT $ 6.53</td>\n",
       "      <td>N</td>\n",
       "      <td>Y</td>\n",
       "      <td>Room size: 11 m²/118 ft²</td>\n",
       "      <td>1</td>\n",
       "      <td>1</td>\n",
       "      <td>0</td>\n",
       "      <td>1</td>\n",
       "    </tr>\n",
       "  </tbody>\n",
       "</table>\n",
       "</div>"
      ],
      "text/plain": [
       "   hotelcode            hotelname          address              city  country  \\\n",
       "0     177234  Elounda Ilion Hotel      Main Street      Crete Island   Greece   \n",
       "1     177240      Maistrali Hotel    Tragaki Beach  Zakynthos Island   Greece   \n",
       "2     177242      Margarita Hotel      Main Street         Santorini   Greece   \n",
       "3     177255  Sellada Beach Hotel          Perissa         Santorini   Greece   \n",
       "4     177408          Hotel Krone  Rainerstrasse 1           Mondsee  Austria   \n",
       "\n",
       "  zipcode propertytype  starrating   latitude  longitude curr  Score    min  \\\n",
       "0   72053       Hotels           4  35.242699  25.728689  EUR   0.28  49.08   \n",
       "1   29100       Hotels           2  37.826958  20.841570  EUR   0.35  58.53   \n",
       "2   84700       Hotels           2  36.425270  25.429930  EUR   0.12  63.29   \n",
       "3   84703       Hotels           4  36.353432  25.472145  EUR   0.16  86.61   \n",
       "4    5310       Hotels           4  47.855227  13.350021  EUR   0.34  45.71   \n",
       "\n",
       "      max  onsiterate  netrate                   roomtype  \\\n",
       "0  245.36       59.59   141.16  Double Room with Sea View   \n",
       "1   77.58       58.53     0.00          Double Capacity 2   \n",
       "2  213.24       63.29     0.00        Double or Twin Room   \n",
       "3  148.98       86.61     0.00                    Double    \n",
       "4  115.28       65.30     0.00                  Twin Room   \n",
       "\n",
       "                              ratetype currency  guests  maxoccupancy  \\\n",
       "0    Extra low price! (non-refundable)      USD       1             1   \n",
       "1                  Cancellation policy      USD       1             1   \n",
       "2    Extra low price! (non-refundable)      USD       1             2   \n",
       "3    Extra low price! (non-refundable)      USD       1             1   \n",
       "4  FREE cancellation, Pay at the hotel      USD       1             1   \n",
       "\n",
       "   discount  taxstatus                                            taxtype  \\\n",
       "0     57.79          2  City tax $ 0.30, Government Tax (Pay at the pr...   \n",
       "1      0.00          2                                            Tax 13%   \n",
       "2      0.00          2  City tax $ 0.32, Government Tax (Pay at the pr...   \n",
       "3      0.00          2                                            Tax 13%   \n",
       "4      0.00          2  City tax (Pay at the property) $ 1.33, VAT $ 6.53   \n",
       "\n",
       "  ispromo israteperstay                 Room size  Air conditioning:   \\\n",
       "0       Y             Y  Room size: 35 m²/377 ft²                   1   \n",
       "1       N             Y                    Others                   1   \n",
       "2       N             Y  Room size: 17 m²/183 ft²                   1   \n",
       "3       N             Y  Room size: 18 m²/194 ft²                   1   \n",
       "4       N             Y  Room size: 11 m²/118 ft²                   1   \n",
       "\n",
       "   Coffee/tea maker:   Wi-Fi [free]:   Toiletries:   \n",
       "0                   1               0             1  \n",
       "1                   0               0             0  \n",
       "2                   0               0             1  \n",
       "3                   1               0             1  \n",
       "4                   1               0             1  "
      ]
     },
     "execution_count": 546,
     "metadata": {},
     "output_type": "execute_result"
    }
   ],
   "source": [
    "hotel_data.head()"
   ]
  },
  {
   "cell_type": "code",
   "execution_count": 547,
   "metadata": {},
   "outputs": [
    {
     "data": {
      "text/plain": [
       "(9093, 31)"
      ]
     },
     "execution_count": 547,
     "metadata": {},
     "output_type": "execute_result"
    }
   ],
   "source": [
    "hotel_data.shape"
   ]
  },
  {
   "cell_type": "code",
   "execution_count": 548,
   "metadata": {},
   "outputs": [],
   "source": [
    "df_hotel = hotel_data.copy() # making copy of hotel_data as df_hotel data would be used for manipulation and orinial data can be used for any inofrmation when needed"
   ]
  },
  {
   "cell_type": "code",
   "execution_count": 444,
   "metadata": {},
   "outputs": [
    {
     "data": {
      "text/html": [
       "<div>\n",
       "<style scoped>\n",
       "    .dataframe tbody tr th:only-of-type {\n",
       "        vertical-align: middle;\n",
       "    }\n",
       "\n",
       "    .dataframe tbody tr th {\n",
       "        vertical-align: top;\n",
       "    }\n",
       "\n",
       "    .dataframe thead th {\n",
       "        text-align: right;\n",
       "    }\n",
       "</style>\n",
       "<table border=\"1\" class=\"dataframe\">\n",
       "  <thead>\n",
       "    <tr style=\"text-align: right;\">\n",
       "      <th></th>\n",
       "      <th>hotelname</th>\n",
       "      <th>address</th>\n",
       "      <th>city</th>\n",
       "      <th>country</th>\n",
       "      <th>zipcode</th>\n",
       "      <th>propertytype</th>\n",
       "      <th>curr</th>\n",
       "      <th>roomtype</th>\n",
       "      <th>ratetype</th>\n",
       "      <th>currency</th>\n",
       "      <th>taxtype</th>\n",
       "      <th>ispromo</th>\n",
       "      <th>israteperstay</th>\n",
       "      <th>Room size</th>\n",
       "    </tr>\n",
       "  </thead>\n",
       "  <tbody>\n",
       "    <tr>\n",
       "      <th>count</th>\n",
       "      <td>9093</td>\n",
       "      <td>9093</td>\n",
       "      <td>9093</td>\n",
       "      <td>9093</td>\n",
       "      <td>9093</td>\n",
       "      <td>9093</td>\n",
       "      <td>9093</td>\n",
       "      <td>9093</td>\n",
       "      <td>9093</td>\n",
       "      <td>9093</td>\n",
       "      <td>9093</td>\n",
       "      <td>9093</td>\n",
       "      <td>9093</td>\n",
       "      <td>9093</td>\n",
       "    </tr>\n",
       "    <tr>\n",
       "      <th>unique</th>\n",
       "      <td>8913</td>\n",
       "      <td>8436</td>\n",
       "      <td>4571</td>\n",
       "      <td>29</td>\n",
       "      <td>3272</td>\n",
       "      <td>7</td>\n",
       "      <td>8</td>\n",
       "      <td>1778</td>\n",
       "      <td>185</td>\n",
       "      <td>1</td>\n",
       "      <td>3543</td>\n",
       "      <td>2</td>\n",
       "      <td>2</td>\n",
       "      <td>99</td>\n",
       "    </tr>\n",
       "    <tr>\n",
       "      <th>top</th>\n",
       "      <td>Hotel Europa</td>\n",
       "      <td>Other</td>\n",
       "      <td>London</td>\n",
       "      <td>United Kingdom</td>\n",
       "      <td>Other</td>\n",
       "      <td>Hotels</td>\n",
       "      <td>EUR</td>\n",
       "      <td>Single Room</td>\n",
       "      <td>Extra low price! (non-refundable)</td>\n",
       "      <td>USD</td>\n",
       "      <td>Other</td>\n",
       "      <td>N</td>\n",
       "      <td>Y</td>\n",
       "      <td>Others</td>\n",
       "    </tr>\n",
       "    <tr>\n",
       "      <th>freq</th>\n",
       "      <td>8</td>\n",
       "      <td>428</td>\n",
       "      <td>378</td>\n",
       "      <td>3412</td>\n",
       "      <td>4227</td>\n",
       "      <td>8975</td>\n",
       "      <td>5379</td>\n",
       "      <td>1134</td>\n",
       "      <td>3750</td>\n",
       "      <td>9093</td>\n",
       "      <td>952</td>\n",
       "      <td>6586</td>\n",
       "      <td>8900</td>\n",
       "      <td>2310</td>\n",
       "    </tr>\n",
       "  </tbody>\n",
       "</table>\n",
       "</div>"
      ],
      "text/plain": [
       "           hotelname address    city         country zipcode propertytype  \\\n",
       "count           9093    9093    9093            9093    9093         9093   \n",
       "unique          8913    8436    4571              29    3272            7   \n",
       "top     Hotel Europa   Other  London  United Kingdom   Other       Hotels   \n",
       "freq               8     428     378            3412    4227         8975   \n",
       "\n",
       "        curr     roomtype                           ratetype currency taxtype  \\\n",
       "count   9093         9093                               9093     9093    9093   \n",
       "unique     8         1778                                185        1    3543   \n",
       "top      EUR  Single Room  Extra low price! (non-refundable)      USD   Other   \n",
       "freq    5379         1134                               3750     9093     952   \n",
       "\n",
       "       ispromo israteperstay Room size  \n",
       "count     9093          9093      9093  \n",
       "unique       2             2        99  \n",
       "top          N             Y    Others  \n",
       "freq      6586          8900      2310  "
      ]
     },
     "execution_count": 444,
     "metadata": {},
     "output_type": "execute_result"
    }
   ],
   "source": [
    "df_hotel.describe(include=object)"
   ]
  },
  {
   "cell_type": "code",
   "execution_count": 549,
   "metadata": {},
   "outputs": [],
   "source": [
    "df_hotel.drop(columns =['hotelcode','hotelname','address','city','country','zipcode','roomtype','ratetype','currency','taxtype','Room size'],axis=1,inplace=True)"
   ]
  },
  {
   "cell_type": "code",
   "execution_count": 550,
   "metadata": {},
   "outputs": [],
   "source": [
    "df_hotel.drop(columns=['guests'],axis=1,inplace=True)"
   ]
  },
  {
   "cell_type": "code",
   "execution_count": 551,
   "metadata": {},
   "outputs": [
    {
     "data": {
      "text/html": [
       "<div>\n",
       "<style scoped>\n",
       "    .dataframe tbody tr th:only-of-type {\n",
       "        vertical-align: middle;\n",
       "    }\n",
       "\n",
       "    .dataframe tbody tr th {\n",
       "        vertical-align: top;\n",
       "    }\n",
       "\n",
       "    .dataframe thead th {\n",
       "        text-align: right;\n",
       "    }\n",
       "</style>\n",
       "<table border=\"1\" class=\"dataframe\">\n",
       "  <thead>\n",
       "    <tr style=\"text-align: right;\">\n",
       "      <th></th>\n",
       "      <th>propertytype</th>\n",
       "      <th>starrating</th>\n",
       "      <th>latitude</th>\n",
       "      <th>longitude</th>\n",
       "      <th>curr</th>\n",
       "      <th>Score</th>\n",
       "      <th>min</th>\n",
       "      <th>max</th>\n",
       "      <th>onsiterate</th>\n",
       "      <th>netrate</th>\n",
       "      <th>maxoccupancy</th>\n",
       "      <th>discount</th>\n",
       "      <th>taxstatus</th>\n",
       "      <th>ispromo</th>\n",
       "      <th>israteperstay</th>\n",
       "      <th>Air conditioning:</th>\n",
       "      <th>Coffee/tea maker:</th>\n",
       "      <th>Wi-Fi [free]:</th>\n",
       "      <th>Toiletries:</th>\n",
       "    </tr>\n",
       "  </thead>\n",
       "  <tbody>\n",
       "    <tr>\n",
       "      <th>0</th>\n",
       "      <td>Hotels</td>\n",
       "      <td>4</td>\n",
       "      <td>35.242699</td>\n",
       "      <td>25.728689</td>\n",
       "      <td>EUR</td>\n",
       "      <td>0.28</td>\n",
       "      <td>49.08</td>\n",
       "      <td>245.36</td>\n",
       "      <td>59.59</td>\n",
       "      <td>141.16</td>\n",
       "      <td>1</td>\n",
       "      <td>57.79</td>\n",
       "      <td>2</td>\n",
       "      <td>Y</td>\n",
       "      <td>Y</td>\n",
       "      <td>1</td>\n",
       "      <td>1</td>\n",
       "      <td>0</td>\n",
       "      <td>1</td>\n",
       "    </tr>\n",
       "    <tr>\n",
       "      <th>1</th>\n",
       "      <td>Hotels</td>\n",
       "      <td>2</td>\n",
       "      <td>37.826958</td>\n",
       "      <td>20.841570</td>\n",
       "      <td>EUR</td>\n",
       "      <td>0.35</td>\n",
       "      <td>58.53</td>\n",
       "      <td>77.58</td>\n",
       "      <td>58.53</td>\n",
       "      <td>0.00</td>\n",
       "      <td>1</td>\n",
       "      <td>0.00</td>\n",
       "      <td>2</td>\n",
       "      <td>N</td>\n",
       "      <td>Y</td>\n",
       "      <td>1</td>\n",
       "      <td>0</td>\n",
       "      <td>0</td>\n",
       "      <td>0</td>\n",
       "    </tr>\n",
       "    <tr>\n",
       "      <th>2</th>\n",
       "      <td>Hotels</td>\n",
       "      <td>2</td>\n",
       "      <td>36.425270</td>\n",
       "      <td>25.429930</td>\n",
       "      <td>EUR</td>\n",
       "      <td>0.12</td>\n",
       "      <td>63.29</td>\n",
       "      <td>213.24</td>\n",
       "      <td>63.29</td>\n",
       "      <td>0.00</td>\n",
       "      <td>2</td>\n",
       "      <td>0.00</td>\n",
       "      <td>2</td>\n",
       "      <td>N</td>\n",
       "      <td>Y</td>\n",
       "      <td>1</td>\n",
       "      <td>0</td>\n",
       "      <td>0</td>\n",
       "      <td>1</td>\n",
       "    </tr>\n",
       "    <tr>\n",
       "      <th>3</th>\n",
       "      <td>Hotels</td>\n",
       "      <td>4</td>\n",
       "      <td>36.353432</td>\n",
       "      <td>25.472145</td>\n",
       "      <td>EUR</td>\n",
       "      <td>0.16</td>\n",
       "      <td>86.61</td>\n",
       "      <td>148.98</td>\n",
       "      <td>86.61</td>\n",
       "      <td>0.00</td>\n",
       "      <td>1</td>\n",
       "      <td>0.00</td>\n",
       "      <td>2</td>\n",
       "      <td>N</td>\n",
       "      <td>Y</td>\n",
       "      <td>1</td>\n",
       "      <td>1</td>\n",
       "      <td>0</td>\n",
       "      <td>1</td>\n",
       "    </tr>\n",
       "    <tr>\n",
       "      <th>4</th>\n",
       "      <td>Hotels</td>\n",
       "      <td>4</td>\n",
       "      <td>47.855227</td>\n",
       "      <td>13.350021</td>\n",
       "      <td>EUR</td>\n",
       "      <td>0.34</td>\n",
       "      <td>45.71</td>\n",
       "      <td>115.28</td>\n",
       "      <td>65.30</td>\n",
       "      <td>0.00</td>\n",
       "      <td>1</td>\n",
       "      <td>0.00</td>\n",
       "      <td>2</td>\n",
       "      <td>N</td>\n",
       "      <td>Y</td>\n",
       "      <td>1</td>\n",
       "      <td>1</td>\n",
       "      <td>0</td>\n",
       "      <td>1</td>\n",
       "    </tr>\n",
       "  </tbody>\n",
       "</table>\n",
       "</div>"
      ],
      "text/plain": [
       "  propertytype  starrating   latitude  longitude curr  Score    min     max  \\\n",
       "0       Hotels           4  35.242699  25.728689  EUR   0.28  49.08  245.36   \n",
       "1       Hotels           2  37.826958  20.841570  EUR   0.35  58.53   77.58   \n",
       "2       Hotels           2  36.425270  25.429930  EUR   0.12  63.29  213.24   \n",
       "3       Hotels           4  36.353432  25.472145  EUR   0.16  86.61  148.98   \n",
       "4       Hotels           4  47.855227  13.350021  EUR   0.34  45.71  115.28   \n",
       "\n",
       "   onsiterate  netrate  maxoccupancy  discount  taxstatus ispromo  \\\n",
       "0       59.59   141.16             1     57.79          2       Y   \n",
       "1       58.53     0.00             1      0.00          2       N   \n",
       "2       63.29     0.00             2      0.00          2       N   \n",
       "3       86.61     0.00             1      0.00          2       N   \n",
       "4       65.30     0.00             1      0.00          2       N   \n",
       "\n",
       "  israteperstay  Air conditioning:   Coffee/tea maker:   Wi-Fi [free]:   \\\n",
       "0             Y                   1                   1               0   \n",
       "1             Y                   1                   0               0   \n",
       "2             Y                   1                   0               0   \n",
       "3             Y                   1                   1               0   \n",
       "4             Y                   1                   1               0   \n",
       "\n",
       "   Toiletries:   \n",
       "0             1  \n",
       "1             0  \n",
       "2             1  \n",
       "3             1  \n",
       "4             1  "
      ]
     },
     "execution_count": 551,
     "metadata": {},
     "output_type": "execute_result"
    }
   ],
   "source": [
    "df_hotel.head()"
   ]
  },
  {
   "cell_type": "markdown",
   "metadata": {},
   "source": [
    "# 2.Statistical summary"
   ]
  },
  {
   "cell_type": "code",
   "execution_count": 552,
   "metadata": {},
   "outputs": [
    {
     "data": {
      "text/html": [
       "<div>\n",
       "<style scoped>\n",
       "    .dataframe tbody tr th:only-of-type {\n",
       "        vertical-align: middle;\n",
       "    }\n",
       "\n",
       "    .dataframe tbody tr th {\n",
       "        vertical-align: top;\n",
       "    }\n",
       "\n",
       "    .dataframe thead th {\n",
       "        text-align: right;\n",
       "    }\n",
       "</style>\n",
       "<table border=\"1\" class=\"dataframe\">\n",
       "  <thead>\n",
       "    <tr style=\"text-align: right;\">\n",
       "      <th></th>\n",
       "      <th>starrating</th>\n",
       "      <th>Score</th>\n",
       "      <th>min</th>\n",
       "      <th>max</th>\n",
       "      <th>onsiterate</th>\n",
       "      <th>netrate</th>\n",
       "      <th>maxoccupancy</th>\n",
       "      <th>discount</th>\n",
       "      <th>taxstatus</th>\n",
       "    </tr>\n",
       "  </thead>\n",
       "  <tbody>\n",
       "    <tr>\n",
       "      <th>count</th>\n",
       "      <td>9093.000000</td>\n",
       "      <td>9093.000000</td>\n",
       "      <td>9093.000000</td>\n",
       "      <td>9093.000000</td>\n",
       "      <td>9093.000000</td>\n",
       "      <td>9093.000000</td>\n",
       "      <td>9093.000000</td>\n",
       "      <td>9093.000000</td>\n",
       "      <td>9093.000000</td>\n",
       "    </tr>\n",
       "    <tr>\n",
       "      <th>mean</th>\n",
       "      <td>3.267458</td>\n",
       "      <td>0.569761</td>\n",
       "      <td>106.083502</td>\n",
       "      <td>206.186462</td>\n",
       "      <td>111.516346</td>\n",
       "      <td>47.846670</td>\n",
       "      <td>1.555482</td>\n",
       "      <td>9.598512</td>\n",
       "      <td>1.936325</td>\n",
       "    </tr>\n",
       "    <tr>\n",
       "      <th>std</th>\n",
       "      <td>0.662251</td>\n",
       "      <td>1.607877</td>\n",
       "      <td>172.404675</td>\n",
       "      <td>459.051478</td>\n",
       "      <td>144.172538</td>\n",
       "      <td>160.683976</td>\n",
       "      <td>1.103292</td>\n",
       "      <td>19.353112</td>\n",
       "      <td>0.432426</td>\n",
       "    </tr>\n",
       "    <tr>\n",
       "      <th>min</th>\n",
       "      <td>2.000000</td>\n",
       "      <td>0.000000</td>\n",
       "      <td>10.160000</td>\n",
       "      <td>11.800000</td>\n",
       "      <td>0.000000</td>\n",
       "      <td>0.000000</td>\n",
       "      <td>1.000000</td>\n",
       "      <td>0.000000</td>\n",
       "      <td>-1.000000</td>\n",
       "    </tr>\n",
       "    <tr>\n",
       "      <th>25%</th>\n",
       "      <td>3.000000</td>\n",
       "      <td>0.200000</td>\n",
       "      <td>55.010000</td>\n",
       "      <td>95.780000</td>\n",
       "      <td>56.870000</td>\n",
       "      <td>0.000000</td>\n",
       "      <td>1.000000</td>\n",
       "      <td>0.000000</td>\n",
       "      <td>2.000000</td>\n",
       "    </tr>\n",
       "    <tr>\n",
       "      <th>50%</th>\n",
       "      <td>3.000000</td>\n",
       "      <td>0.310000</td>\n",
       "      <td>73.670000</td>\n",
       "      <td>137.270000</td>\n",
       "      <td>78.380000</td>\n",
       "      <td>0.000000</td>\n",
       "      <td>1.000000</td>\n",
       "      <td>0.000000</td>\n",
       "      <td>2.000000</td>\n",
       "    </tr>\n",
       "    <tr>\n",
       "      <th>75%</th>\n",
       "      <td>4.000000</td>\n",
       "      <td>0.470000</td>\n",
       "      <td>101.380000</td>\n",
       "      <td>210.970000</td>\n",
       "      <td>111.350000</td>\n",
       "      <td>62.000000</td>\n",
       "      <td>2.000000</td>\n",
       "      <td>7.400000</td>\n",
       "      <td>2.000000</td>\n",
       "    </tr>\n",
       "    <tr>\n",
       "      <th>max</th>\n",
       "      <td>4.000000</td>\n",
       "      <td>87.900000</td>\n",
       "      <td>10104.050000</td>\n",
       "      <td>18083.360000</td>\n",
       "      <td>4795.000000</td>\n",
       "      <td>11957.400000</td>\n",
       "      <td>17.000000</td>\n",
       "      <td>99.650000</td>\n",
       "      <td>2.000000</td>\n",
       "    </tr>\n",
       "  </tbody>\n",
       "</table>\n",
       "</div>"
      ],
      "text/plain": [
       "        starrating        Score           min           max   onsiterate  \\\n",
       "count  9093.000000  9093.000000   9093.000000   9093.000000  9093.000000   \n",
       "mean      3.267458     0.569761    106.083502    206.186462   111.516346   \n",
       "std       0.662251     1.607877    172.404675    459.051478   144.172538   \n",
       "min       2.000000     0.000000     10.160000     11.800000     0.000000   \n",
       "25%       3.000000     0.200000     55.010000     95.780000    56.870000   \n",
       "50%       3.000000     0.310000     73.670000    137.270000    78.380000   \n",
       "75%       4.000000     0.470000    101.380000    210.970000   111.350000   \n",
       "max       4.000000    87.900000  10104.050000  18083.360000  4795.000000   \n",
       "\n",
       "            netrate  maxoccupancy     discount    taxstatus  \n",
       "count   9093.000000   9093.000000  9093.000000  9093.000000  \n",
       "mean      47.846670      1.555482     9.598512     1.936325  \n",
       "std      160.683976      1.103292    19.353112     0.432426  \n",
       "min        0.000000      1.000000     0.000000    -1.000000  \n",
       "25%        0.000000      1.000000     0.000000     2.000000  \n",
       "50%        0.000000      1.000000     0.000000     2.000000  \n",
       "75%       62.000000      2.000000     7.400000     2.000000  \n",
       "max    11957.400000     17.000000    99.650000     2.000000  "
      ]
     },
     "execution_count": 552,
     "metadata": {},
     "output_type": "execute_result"
    }
   ],
   "source": [
    "df_hotel.drop(columns =['latitude','longitude','Air conditioning: ','Coffee/tea maker: ','Wi-Fi [free]: ','Toiletries: '],axis=1).describe(exclude=object)"
   ]
  },
  {
   "cell_type": "markdown",
   "metadata": {},
   "source": [
    "From the rating it can be observed that the mininum rating of hotels are 2 and maximum is 4 , after studying the quaritile range it is sure that 75% of the hotels posses the rating of 4 star but there is no hotel with 5 star rating\n",
    "\n",
    "\n",
    "From the min and max price columns it is sure that the  mininum price of hotel is $10.16 and maximum can be around $18083 , the mean price for minprice is about  $87.51\n",
    "\n",
    "The discount provided by the hotel may vary from 0 to 99.65% , however the mean discount is $14.5"
   ]
  },
  {
   "cell_type": "code",
   "execution_count": 553,
   "metadata": {},
   "outputs": [
    {
     "data": {
      "text/html": [
       "<div>\n",
       "<style scoped>\n",
       "    .dataframe tbody tr th:only-of-type {\n",
       "        vertical-align: middle;\n",
       "    }\n",
       "\n",
       "    .dataframe tbody tr th {\n",
       "        vertical-align: top;\n",
       "    }\n",
       "\n",
       "    .dataframe thead th {\n",
       "        text-align: right;\n",
       "    }\n",
       "</style>\n",
       "<table border=\"1\" class=\"dataframe\">\n",
       "  <thead>\n",
       "    <tr style=\"text-align: right;\">\n",
       "      <th></th>\n",
       "      <th>propertytype</th>\n",
       "      <th>starrating</th>\n",
       "      <th>latitude</th>\n",
       "      <th>longitude</th>\n",
       "      <th>curr</th>\n",
       "      <th>Score</th>\n",
       "      <th>min</th>\n",
       "      <th>max</th>\n",
       "      <th>onsiterate</th>\n",
       "      <th>netrate</th>\n",
       "      <th>maxoccupancy</th>\n",
       "      <th>discount</th>\n",
       "      <th>taxstatus</th>\n",
       "      <th>ispromo</th>\n",
       "      <th>israteperstay</th>\n",
       "      <th>Air conditioning:</th>\n",
       "      <th>Coffee/tea maker:</th>\n",
       "      <th>Wi-Fi [free]:</th>\n",
       "      <th>Toiletries:</th>\n",
       "    </tr>\n",
       "  </thead>\n",
       "  <tbody>\n",
       "    <tr>\n",
       "      <th>0</th>\n",
       "      <td>Hotels</td>\n",
       "      <td>4</td>\n",
       "      <td>35.242699</td>\n",
       "      <td>25.728689</td>\n",
       "      <td>EUR</td>\n",
       "      <td>0.28</td>\n",
       "      <td>49.08</td>\n",
       "      <td>245.36</td>\n",
       "      <td>59.59</td>\n",
       "      <td>141.16</td>\n",
       "      <td>1</td>\n",
       "      <td>57.79</td>\n",
       "      <td>2</td>\n",
       "      <td>Y</td>\n",
       "      <td>Y</td>\n",
       "      <td>1</td>\n",
       "      <td>1</td>\n",
       "      <td>0</td>\n",
       "      <td>1</td>\n",
       "    </tr>\n",
       "    <tr>\n",
       "      <th>1</th>\n",
       "      <td>Hotels</td>\n",
       "      <td>2</td>\n",
       "      <td>37.826958</td>\n",
       "      <td>20.841570</td>\n",
       "      <td>EUR</td>\n",
       "      <td>0.35</td>\n",
       "      <td>58.53</td>\n",
       "      <td>77.58</td>\n",
       "      <td>58.53</td>\n",
       "      <td>0.00</td>\n",
       "      <td>1</td>\n",
       "      <td>0.00</td>\n",
       "      <td>2</td>\n",
       "      <td>N</td>\n",
       "      <td>Y</td>\n",
       "      <td>1</td>\n",
       "      <td>0</td>\n",
       "      <td>0</td>\n",
       "      <td>0</td>\n",
       "    </tr>\n",
       "    <tr>\n",
       "      <th>2</th>\n",
       "      <td>Hotels</td>\n",
       "      <td>2</td>\n",
       "      <td>36.425270</td>\n",
       "      <td>25.429930</td>\n",
       "      <td>EUR</td>\n",
       "      <td>0.12</td>\n",
       "      <td>63.29</td>\n",
       "      <td>213.24</td>\n",
       "      <td>63.29</td>\n",
       "      <td>0.00</td>\n",
       "      <td>2</td>\n",
       "      <td>0.00</td>\n",
       "      <td>2</td>\n",
       "      <td>N</td>\n",
       "      <td>Y</td>\n",
       "      <td>1</td>\n",
       "      <td>0</td>\n",
       "      <td>0</td>\n",
       "      <td>1</td>\n",
       "    </tr>\n",
       "    <tr>\n",
       "      <th>3</th>\n",
       "      <td>Hotels</td>\n",
       "      <td>4</td>\n",
       "      <td>36.353432</td>\n",
       "      <td>25.472145</td>\n",
       "      <td>EUR</td>\n",
       "      <td>0.16</td>\n",
       "      <td>86.61</td>\n",
       "      <td>148.98</td>\n",
       "      <td>86.61</td>\n",
       "      <td>0.00</td>\n",
       "      <td>1</td>\n",
       "      <td>0.00</td>\n",
       "      <td>2</td>\n",
       "      <td>N</td>\n",
       "      <td>Y</td>\n",
       "      <td>1</td>\n",
       "      <td>1</td>\n",
       "      <td>0</td>\n",
       "      <td>1</td>\n",
       "    </tr>\n",
       "    <tr>\n",
       "      <th>4</th>\n",
       "      <td>Hotels</td>\n",
       "      <td>4</td>\n",
       "      <td>47.855227</td>\n",
       "      <td>13.350021</td>\n",
       "      <td>EUR</td>\n",
       "      <td>0.34</td>\n",
       "      <td>45.71</td>\n",
       "      <td>115.28</td>\n",
       "      <td>65.30</td>\n",
       "      <td>0.00</td>\n",
       "      <td>1</td>\n",
       "      <td>0.00</td>\n",
       "      <td>2</td>\n",
       "      <td>N</td>\n",
       "      <td>Y</td>\n",
       "      <td>1</td>\n",
       "      <td>1</td>\n",
       "      <td>0</td>\n",
       "      <td>1</td>\n",
       "    </tr>\n",
       "  </tbody>\n",
       "</table>\n",
       "</div>"
      ],
      "text/plain": [
       "  propertytype  starrating   latitude  longitude curr  Score    min     max  \\\n",
       "0       Hotels           4  35.242699  25.728689  EUR   0.28  49.08  245.36   \n",
       "1       Hotels           2  37.826958  20.841570  EUR   0.35  58.53   77.58   \n",
       "2       Hotels           2  36.425270  25.429930  EUR   0.12  63.29  213.24   \n",
       "3       Hotels           4  36.353432  25.472145  EUR   0.16  86.61  148.98   \n",
       "4       Hotels           4  47.855227  13.350021  EUR   0.34  45.71  115.28   \n",
       "\n",
       "   onsiterate  netrate  maxoccupancy  discount  taxstatus ispromo  \\\n",
       "0       59.59   141.16             1     57.79          2       Y   \n",
       "1       58.53     0.00             1      0.00          2       N   \n",
       "2       63.29     0.00             2      0.00          2       N   \n",
       "3       86.61     0.00             1      0.00          2       N   \n",
       "4       65.30     0.00             1      0.00          2       N   \n",
       "\n",
       "  israteperstay  Air conditioning:   Coffee/tea maker:   Wi-Fi [free]:   \\\n",
       "0             Y                   1                   1               0   \n",
       "1             Y                   1                   0               0   \n",
       "2             Y                   1                   0               0   \n",
       "3             Y                   1                   1               0   \n",
       "4             Y                   1                   1               0   \n",
       "\n",
       "   Toiletries:   \n",
       "0             1  \n",
       "1             0  \n",
       "2             1  \n",
       "3             1  \n",
       "4             1  "
      ]
     },
     "execution_count": 553,
     "metadata": {},
     "output_type": "execute_result"
    }
   ],
   "source": [
    "df_hotel.head()"
   ]
  },
  {
   "cell_type": "markdown",
   "metadata": {},
   "source": [
    "# Data Visualization"
   ]
  },
  {
   "cell_type": "code",
   "execution_count": 554,
   "metadata": {},
   "outputs": [
    {
     "data": {
      "image/png": "[encoded data removed]",
      "text/plain": [
       "<Figure size 864x936 with 1 Axes>"
      ]
     },
     "metadata": {
      "needs_background": "light"
     },
     "output_type": "display_data"
    }
   ],
   "source": [
    "plt.figure(figsize=(12,13))\n",
    "some_country = ('United Kingdom','Spain ','France', 'Italy', 'Germany', 'Portugal','Greece','Netherlands')\n",
    "df_hotel = hotel_data.loc[hotel_data['country'].isin(some_country) & hotel_data['onsiterate'] ]\n",
    "\n",
    "ax = sns.barplot(x=df_hotel['country'],y=df_hotel['onsiterate'], palette=\"rocket\");\n",
    "ax.set_title(label='Onsite rate of Countries', fontsize=20);"
   ]
  },
  {
   "cell_type": "code",
   "execution_count": 555,
   "metadata": {},
   "outputs": [
    {
     "data": {
      "image/png": "[encoded data removed]",
      "text/plain": [
       "<Figure size 360x360 with 1 Axes>"
      ]
     },
     "metadata": {
      "needs_background": "light"
     },
     "output_type": "display_data"
    }
   ],
   "source": [
    "sns.lmplot(x = 'onsiterate', y ='Score', data = hotel_data,scatter_kws = {'alpha':0.1,'color':'orange'},\n",
    "           line_kws={'color':'red'})\n",
    "plt.show()"
   ]
  },
  {
   "cell_type": "code",
   "execution_count": 556,
   "metadata": {},
   "outputs": [
    {
     "data": {
      "image/png": "[encoded data removed]",
      "text/plain": [
       "<Figure size 1080x1080 with 2 Axes>"
      ]
     },
     "metadata": {},
     "output_type": "display_data"
    }
   ],
   "source": [
    "corr = hotel_data.corr()\n",
    "mask = np.zeros_like(corr)\n",
    "mask[np.triu_indices_from(mask)] = True\n",
    "with sns.axes_style(\"white\"):\n",
    "    f, ax = plt.subplots(figsize=(15, 15))\n",
    "    ax = sns.heatmap(corr,mask=mask,square=True,linewidths=.8,cmap=\"YlGnBu\",annot=True)"
   ]
  },
  {
   "cell_type": "code",
   "execution_count": 557,
   "metadata": {},
   "outputs": [
    {
     "data": {
      "image/png": "[encoded data removed]",
      "text/plain": [
       "<Figure size 1440x720 with 1 Axes>"
      ]
     },
     "metadata": {
      "needs_background": "light"
     },
     "output_type": "display_data"
    }
   ],
   "source": [
    "fig, ax = plt.subplots()\n",
    "fig.set_size_inches(20, 10)\n",
    "ax = sns.violinplot(x=\"starrating\", y=\"discount\", data=hotel_data);\n",
    "ax.set_title(label='Distribution of discounts for different star ratings', fontsize=20);"
   ]
  },
  {
   "cell_type": "code",
   "execution_count": 558,
   "metadata": {},
   "outputs": [
    {
     "data": {
      "image/png": "[encoded data removed]",
      "text/plain": [
       "<Figure size 1008x504 with 1 Axes>"
      ]
     },
     "metadata": {
      "needs_background": "light"
     },
     "output_type": "display_data"
    }
   ],
   "source": [
    "plt.figure(figsize=(14,7))\n",
    "ax = sns.scatterplot(x='onsiterate', y='discount',\n",
    "                     sizes=(1, 1),data=hotel_data)\n",
    "ax.set_title(label='Relation of onsite rate with respect to discount', fontsize=20);"
   ]
  },
  {
   "cell_type": "markdown",
   "metadata": {},
   "source": [
    "# Clustering"
   ]
  },
  {
   "cell_type": "markdown",
   "metadata": {},
   "source": [
    "### a Flat clustering"
   ]
  },
  {
   "cell_type": "code",
   "execution_count": 377,
   "metadata": {},
   "outputs": [
    {
     "data": {
      "text/plain": [
       "213187"
      ]
     },
     "execution_count": 377,
     "metadata": {},
     "output_type": "execute_result"
    }
   ],
   "source": [
    "df_hotel.size"
   ]
  },
  {
   "cell_type": "code",
   "execution_count": null,
   "metadata": {},
   "outputs": [],
   "source": []
  },
  {
   "cell_type": "code",
   "execution_count": 559,
   "metadata": {},
   "outputs": [],
   "source": [
    "df_hotel =pd.get_dummies(df_hotel,columns=['propertytype','curr','taxstatus','ispromo','israteperstay','curr'],drop_first=True)"
   ]
  },
  {
   "cell_type": "code",
   "execution_count": 560,
   "metadata": {},
   "outputs": [],
   "source": [
    "from sklearn.cluster import KMeans\n",
    "from sklearn import metrics\n",
    "from scipy.spatial.distance import cdist\n",
    "import matplotlib.pyplot as plt\n",
    "import seaborn as sns\n",
    "%matplotlib inline\n",
    "\n",
    "from sklearn.decomposition import PCA\n",
    "from sklearn.preprocessing import MinMaxScaler\n",
    "from prince import MCA\n",
    "from sklearn.pipeline import Pipeline"
   ]
  },
  {
   "cell_type": "code",
   "execution_count": 562,
   "metadata": {},
   "outputs": [
    {
     "data": {
      "text/html": [
       "<div>\n",
       "<style scoped>\n",
       "    .dataframe tbody tr th:only-of-type {\n",
       "        vertical-align: middle;\n",
       "    }\n",
       "\n",
       "    .dataframe tbody tr th {\n",
       "        vertical-align: top;\n",
       "    }\n",
       "\n",
       "    .dataframe thead th {\n",
       "        text-align: right;\n",
       "    }\n",
       "</style>\n",
       "<table border=\"1\" class=\"dataframe\">\n",
       "  <thead>\n",
       "    <tr style=\"text-align: right;\">\n",
       "      <th></th>\n",
       "      <th>starrating</th>\n",
       "      <th>latitude</th>\n",
       "      <th>longitude</th>\n",
       "      <th>Score</th>\n",
       "      <th>min</th>\n",
       "      <th>max</th>\n",
       "      <th>onsiterate</th>\n",
       "      <th>netrate</th>\n",
       "      <th>maxoccupancy</th>\n",
       "      <th>discount</th>\n",
       "    </tr>\n",
       "  </thead>\n",
       "  <tbody>\n",
       "    <tr>\n",
       "      <th>0</th>\n",
       "      <td>4</td>\n",
       "      <td>35.242699</td>\n",
       "      <td>25.728689</td>\n",
       "      <td>0.28</td>\n",
       "      <td>49.08</td>\n",
       "      <td>245.36</td>\n",
       "      <td>59.59</td>\n",
       "      <td>141.16</td>\n",
       "      <td>1</td>\n",
       "      <td>57.79</td>\n",
       "    </tr>\n",
       "    <tr>\n",
       "      <th>1</th>\n",
       "      <td>2</td>\n",
       "      <td>37.826958</td>\n",
       "      <td>20.841570</td>\n",
       "      <td>0.35</td>\n",
       "      <td>58.53</td>\n",
       "      <td>77.58</td>\n",
       "      <td>58.53</td>\n",
       "      <td>0.00</td>\n",
       "      <td>1</td>\n",
       "      <td>0.00</td>\n",
       "    </tr>\n",
       "    <tr>\n",
       "      <th>2</th>\n",
       "      <td>2</td>\n",
       "      <td>36.425270</td>\n",
       "      <td>25.429930</td>\n",
       "      <td>0.12</td>\n",
       "      <td>63.29</td>\n",
       "      <td>213.24</td>\n",
       "      <td>63.29</td>\n",
       "      <td>0.00</td>\n",
       "      <td>2</td>\n",
       "      <td>0.00</td>\n",
       "    </tr>\n",
       "    <tr>\n",
       "      <th>3</th>\n",
       "      <td>4</td>\n",
       "      <td>36.353432</td>\n",
       "      <td>25.472145</td>\n",
       "      <td>0.16</td>\n",
       "      <td>86.61</td>\n",
       "      <td>148.98</td>\n",
       "      <td>86.61</td>\n",
       "      <td>0.00</td>\n",
       "      <td>1</td>\n",
       "      <td>0.00</td>\n",
       "    </tr>\n",
       "    <tr>\n",
       "      <th>5</th>\n",
       "      <td>3</td>\n",
       "      <td>45.166756</td>\n",
       "      <td>1.543671</td>\n",
       "      <td>0.35</td>\n",
       "      <td>45.64</td>\n",
       "      <td>110.60</td>\n",
       "      <td>72.59</td>\n",
       "      <td>0.00</td>\n",
       "      <td>1</td>\n",
       "      <td>0.00</td>\n",
       "    </tr>\n",
       "  </tbody>\n",
       "</table>\n",
       "</div>"
      ],
      "text/plain": [
       "   starrating   latitude  longitude  Score    min     max  onsiterate  \\\n",
       "0           4  35.242699  25.728689   0.28  49.08  245.36       59.59   \n",
       "1           2  37.826958  20.841570   0.35  58.53   77.58       58.53   \n",
       "2           2  36.425270  25.429930   0.12  63.29  213.24       63.29   \n",
       "3           4  36.353432  25.472145   0.16  86.61  148.98       86.61   \n",
       "5           3  45.166756   1.543671   0.35  45.64  110.60       72.59   \n",
       "\n",
       "   netrate  maxoccupancy  discount  \n",
       "0   141.16             1     57.79  \n",
       "1     0.00             1      0.00  \n",
       "2     0.00             2      0.00  \n",
       "3     0.00             1      0.00  \n",
       "5     0.00             1      0.00  "
      ]
     },
     "execution_count": 562,
     "metadata": {},
     "output_type": "execute_result"
    }
   ],
   "source": [
    "df_num.head()"
   ]
  },
  {
   "cell_type": "code",
   "execution_count": 563,
   "metadata": {},
   "outputs": [
    {
     "data": {
      "text/html": [
       "<div>\n",
       "<style scoped>\n",
       "    .dataframe tbody tr th:only-of-type {\n",
       "        vertical-align: middle;\n",
       "    }\n",
       "\n",
       "    .dataframe tbody tr th {\n",
       "        vertical-align: top;\n",
       "    }\n",
       "\n",
       "    .dataframe thead th {\n",
       "        text-align: right;\n",
       "    }\n",
       "</style>\n",
       "<table border=\"1\" class=\"dataframe\">\n",
       "  <thead>\n",
       "    <tr style=\"text-align: right;\">\n",
       "      <th></th>\n",
       "      <th>hotelcode</th>\n",
       "      <th>hotelname</th>\n",
       "      <th>address</th>\n",
       "      <th>city</th>\n",
       "      <th>country</th>\n",
       "      <th>zipcode</th>\n",
       "      <th>starrating</th>\n",
       "      <th>latitude</th>\n",
       "      <th>longitude</th>\n",
       "      <th>Score</th>\n",
       "    </tr>\n",
       "  </thead>\n",
       "  <tbody>\n",
       "    <tr>\n",
       "      <th>0</th>\n",
       "      <td>177234</td>\n",
       "      <td>Elounda Ilion Hotel</td>\n",
       "      <td>Main Street</td>\n",
       "      <td>Crete Island</td>\n",
       "      <td>Greece</td>\n",
       "      <td>72053</td>\n",
       "      <td>4</td>\n",
       "      <td>35.242699</td>\n",
       "      <td>25.728689</td>\n",
       "      <td>0.28</td>\n",
       "    </tr>\n",
       "    <tr>\n",
       "      <th>1</th>\n",
       "      <td>177240</td>\n",
       "      <td>Maistrali Hotel</td>\n",
       "      <td>Tragaki Beach</td>\n",
       "      <td>Zakynthos Island</td>\n",
       "      <td>Greece</td>\n",
       "      <td>29100</td>\n",
       "      <td>2</td>\n",
       "      <td>37.826958</td>\n",
       "      <td>20.841570</td>\n",
       "      <td>0.35</td>\n",
       "    </tr>\n",
       "    <tr>\n",
       "      <th>2</th>\n",
       "      <td>177242</td>\n",
       "      <td>Margarita Hotel</td>\n",
       "      <td>Main Street</td>\n",
       "      <td>Santorini</td>\n",
       "      <td>Greece</td>\n",
       "      <td>84700</td>\n",
       "      <td>2</td>\n",
       "      <td>36.425270</td>\n",
       "      <td>25.429930</td>\n",
       "      <td>0.12</td>\n",
       "    </tr>\n",
       "    <tr>\n",
       "      <th>3</th>\n",
       "      <td>177255</td>\n",
       "      <td>Sellada Beach Hotel</td>\n",
       "      <td>Perissa</td>\n",
       "      <td>Santorini</td>\n",
       "      <td>Greece</td>\n",
       "      <td>84703</td>\n",
       "      <td>4</td>\n",
       "      <td>36.353432</td>\n",
       "      <td>25.472145</td>\n",
       "      <td>0.16</td>\n",
       "    </tr>\n",
       "    <tr>\n",
       "      <th>5</th>\n",
       "      <td>177420</td>\n",
       "      <td>Kyriad Brive la Gaillarde Centre</td>\n",
       "      <td>13 Avenue Jacques et Bernadette CHIRAC</td>\n",
       "      <td>Brive-la-Gaillarde</td>\n",
       "      <td>France</td>\n",
       "      <td>19100</td>\n",
       "      <td>3</td>\n",
       "      <td>45.166756</td>\n",
       "      <td>1.543671</td>\n",
       "      <td>0.35</td>\n",
       "    </tr>\n",
       "  </tbody>\n",
       "</table>\n",
       "</div>"
      ],
      "text/plain": [
       "   hotelcode                         hotelname  \\\n",
       "0     177234               Elounda Ilion Hotel   \n",
       "1     177240                   Maistrali Hotel   \n",
       "2     177242                   Margarita Hotel   \n",
       "3     177255               Sellada Beach Hotel   \n",
       "5     177420  Kyriad Brive la Gaillarde Centre   \n",
       "\n",
       "                                  address                city country zipcode  \\\n",
       "0                             Main Street        Crete Island  Greece   72053   \n",
       "1                           Tragaki Beach    Zakynthos Island  Greece   29100   \n",
       "2                             Main Street           Santorini  Greece   84700   \n",
       "3                                 Perissa           Santorini  Greece   84703   \n",
       "5  13 Avenue Jacques et Bernadette CHIRAC  Brive-la-Gaillarde  France   19100   \n",
       "\n",
       "   starrating   latitude  longitude  Score  \n",
       "0           4  35.242699  25.728689   0.28  \n",
       "1           2  37.826958  20.841570   0.35  \n",
       "2           2  36.425270  25.429930   0.12  \n",
       "3           4  36.353432  25.472145   0.16  \n",
       "5           3  45.166756   1.543671   0.35  "
      ]
     },
     "execution_count": 563,
     "metadata": {},
     "output_type": "execute_result"
    }
   ],
   "source": [
    "df_num =df_hotel.iloc[:,0:10]\n",
    "df_num.head()"
   ]
  },
  {
   "cell_type": "code",
   "execution_count": 564,
   "metadata": {},
   "outputs": [
    {
     "ename": "ValueError",
     "evalue": "could not convert string to float: 'Elounda Ilion Hotel'",
     "output_type": "error",
     "traceback": [
      "\u001b[1;31m---------------------------------------------------------------------------\u001b[0m",
      "\u001b[1;31mValueError\u001b[0m                                Traceback (most recent call last)",
      "\u001b[1;32m<ipython-input-564-eb9abc9f5275>\u001b[0m in \u001b[0;36m<module>\u001b[1;34m\u001b[0m\n\u001b[0;32m      1\u001b[0m \u001b[0mpca\u001b[0m \u001b[1;33m=\u001b[0m\u001b[0mPCA\u001b[0m\u001b[1;33m(\u001b[0m\u001b[1;33m)\u001b[0m\u001b[1;33m\u001b[0m\u001b[1;33m\u001b[0m\u001b[0m\n\u001b[1;32m----> 2\u001b[1;33m \u001b[0mpca\u001b[0m\u001b[1;33m.\u001b[0m\u001b[0mfit\u001b[0m\u001b[1;33m(\u001b[0m\u001b[0mdf_num\u001b[0m\u001b[1;33m)\u001b[0m\u001b[1;33m\u001b[0m\u001b[1;33m\u001b[0m\u001b[0m\n\u001b[0m",
      "\u001b[1;32m~\\anaconda3\\lib\\site-packages\\sklearn\\decomposition\\_pca.py\u001b[0m in \u001b[0;36mfit\u001b[1;34m(self, X, y)\u001b[0m\n\u001b[0;32m    357\u001b[0m             \u001b[0mReturns\u001b[0m \u001b[0mthe\u001b[0m \u001b[0minstance\u001b[0m \u001b[0mitself\u001b[0m\u001b[1;33m.\u001b[0m\u001b[1;33m\u001b[0m\u001b[1;33m\u001b[0m\u001b[0m\n\u001b[0;32m    358\u001b[0m         \"\"\"\n\u001b[1;32m--> 359\u001b[1;33m         \u001b[0mself\u001b[0m\u001b[1;33m.\u001b[0m\u001b[0m_fit\u001b[0m\u001b[1;33m(\u001b[0m\u001b[0mX\u001b[0m\u001b[1;33m)\u001b[0m\u001b[1;33m\u001b[0m\u001b[1;33m\u001b[0m\u001b[0m\n\u001b[0m\u001b[0;32m    360\u001b[0m         \u001b[1;32mreturn\u001b[0m \u001b[0mself\u001b[0m\u001b[1;33m\u001b[0m\u001b[1;33m\u001b[0m\u001b[0m\n\u001b[0;32m    361\u001b[0m \u001b[1;33m\u001b[0m\u001b[0m\n",
      "\u001b[1;32m~\\anaconda3\\lib\\site-packages\\sklearn\\decomposition\\_pca.py\u001b[0m in \u001b[0;36m_fit\u001b[1;34m(self, X)\u001b[0m\n\u001b[0;32m    402\u001b[0m                             'TruncatedSVD for a possible alternative.')\n\u001b[0;32m    403\u001b[0m \u001b[1;33m\u001b[0m\u001b[0m\n\u001b[1;32m--> 404\u001b[1;33m         X = self._validate_data(X, dtype=[np.float64, np.float32],\n\u001b[0m\u001b[0;32m    405\u001b[0m                                 ensure_2d=True, copy=self.copy)\n\u001b[0;32m    406\u001b[0m \u001b[1;33m\u001b[0m\u001b[0m\n",
      "\u001b[1;32m~\\anaconda3\\lib\\site-packages\\sklearn\\base.py\u001b[0m in \u001b[0;36m_validate_data\u001b[1;34m(self, X, y, reset, validate_separately, **check_params)\u001b[0m\n\u001b[0;32m    419\u001b[0m             \u001b[0mout\u001b[0m \u001b[1;33m=\u001b[0m \u001b[0mX\u001b[0m\u001b[1;33m\u001b[0m\u001b[1;33m\u001b[0m\u001b[0m\n\u001b[0;32m    420\u001b[0m         \u001b[1;32melif\u001b[0m \u001b[0misinstance\u001b[0m\u001b[1;33m(\u001b[0m\u001b[0my\u001b[0m\u001b[1;33m,\u001b[0m \u001b[0mstr\u001b[0m\u001b[1;33m)\u001b[0m \u001b[1;32mand\u001b[0m \u001b[0my\u001b[0m \u001b[1;33m==\u001b[0m \u001b[1;34m'no_validation'\u001b[0m\u001b[1;33m:\u001b[0m\u001b[1;33m\u001b[0m\u001b[1;33m\u001b[0m\u001b[0m\n\u001b[1;32m--> 421\u001b[1;33m             \u001b[0mX\u001b[0m \u001b[1;33m=\u001b[0m \u001b[0mcheck_array\u001b[0m\u001b[1;33m(\u001b[0m\u001b[0mX\u001b[0m\u001b[1;33m,\u001b[0m \u001b[1;33m**\u001b[0m\u001b[0mcheck_params\u001b[0m\u001b[1;33m)\u001b[0m\u001b[1;33m\u001b[0m\u001b[1;33m\u001b[0m\u001b[0m\n\u001b[0m\u001b[0;32m    422\u001b[0m             \u001b[0mout\u001b[0m \u001b[1;33m=\u001b[0m \u001b[0mX\u001b[0m\u001b[1;33m\u001b[0m\u001b[1;33m\u001b[0m\u001b[0m\n\u001b[0;32m    423\u001b[0m         \u001b[1;32melse\u001b[0m\u001b[1;33m:\u001b[0m\u001b[1;33m\u001b[0m\u001b[1;33m\u001b[0m\u001b[0m\n",
      "\u001b[1;32m~\\anaconda3\\lib\\site-packages\\sklearn\\utils\\validation.py\u001b[0m in \u001b[0;36minner_f\u001b[1;34m(*args, **kwargs)\u001b[0m\n\u001b[0;32m     61\u001b[0m             \u001b[0mextra_args\u001b[0m \u001b[1;33m=\u001b[0m \u001b[0mlen\u001b[0m\u001b[1;33m(\u001b[0m\u001b[0margs\u001b[0m\u001b[1;33m)\u001b[0m \u001b[1;33m-\u001b[0m \u001b[0mlen\u001b[0m\u001b[1;33m(\u001b[0m\u001b[0mall_args\u001b[0m\u001b[1;33m)\u001b[0m\u001b[1;33m\u001b[0m\u001b[1;33m\u001b[0m\u001b[0m\n\u001b[0;32m     62\u001b[0m             \u001b[1;32mif\u001b[0m \u001b[0mextra_args\u001b[0m \u001b[1;33m<=\u001b[0m \u001b[1;36m0\u001b[0m\u001b[1;33m:\u001b[0m\u001b[1;33m\u001b[0m\u001b[1;33m\u001b[0m\u001b[0m\n\u001b[1;32m---> 63\u001b[1;33m                 \u001b[1;32mreturn\u001b[0m \u001b[0mf\u001b[0m\u001b[1;33m(\u001b[0m\u001b[1;33m*\u001b[0m\u001b[0margs\u001b[0m\u001b[1;33m,\u001b[0m \u001b[1;33m**\u001b[0m\u001b[0mkwargs\u001b[0m\u001b[1;33m)\u001b[0m\u001b[1;33m\u001b[0m\u001b[1;33m\u001b[0m\u001b[0m\n\u001b[0m\u001b[0;32m     64\u001b[0m \u001b[1;33m\u001b[0m\u001b[0m\n\u001b[0;32m     65\u001b[0m             \u001b[1;31m# extra_args > 0\u001b[0m\u001b[1;33m\u001b[0m\u001b[1;33m\u001b[0m\u001b[1;33m\u001b[0m\u001b[0m\n",
      "\u001b[1;32m~\\anaconda3\\lib\\site-packages\\sklearn\\utils\\validation.py\u001b[0m in \u001b[0;36mcheck_array\u001b[1;34m(array, accept_sparse, accept_large_sparse, dtype, order, copy, force_all_finite, ensure_2d, allow_nd, ensure_min_samples, ensure_min_features, estimator)\u001b[0m\n\u001b[0;32m    671\u001b[0m                     \u001b[0marray\u001b[0m \u001b[1;33m=\u001b[0m \u001b[0marray\u001b[0m\u001b[1;33m.\u001b[0m\u001b[0mastype\u001b[0m\u001b[1;33m(\u001b[0m\u001b[0mdtype\u001b[0m\u001b[1;33m,\u001b[0m \u001b[0mcasting\u001b[0m\u001b[1;33m=\u001b[0m\u001b[1;34m\"unsafe\"\u001b[0m\u001b[1;33m,\u001b[0m \u001b[0mcopy\u001b[0m\u001b[1;33m=\u001b[0m\u001b[1;32mFalse\u001b[0m\u001b[1;33m)\u001b[0m\u001b[1;33m\u001b[0m\u001b[1;33m\u001b[0m\u001b[0m\n\u001b[0;32m    672\u001b[0m                 \u001b[1;32melse\u001b[0m\u001b[1;33m:\u001b[0m\u001b[1;33m\u001b[0m\u001b[1;33m\u001b[0m\u001b[0m\n\u001b[1;32m--> 673\u001b[1;33m                     \u001b[0marray\u001b[0m \u001b[1;33m=\u001b[0m \u001b[0mnp\u001b[0m\u001b[1;33m.\u001b[0m\u001b[0masarray\u001b[0m\u001b[1;33m(\u001b[0m\u001b[0marray\u001b[0m\u001b[1;33m,\u001b[0m \u001b[0morder\u001b[0m\u001b[1;33m=\u001b[0m\u001b[0morder\u001b[0m\u001b[1;33m,\u001b[0m \u001b[0mdtype\u001b[0m\u001b[1;33m=\u001b[0m\u001b[0mdtype\u001b[0m\u001b[1;33m)\u001b[0m\u001b[1;33m\u001b[0m\u001b[1;33m\u001b[0m\u001b[0m\n\u001b[0m\u001b[0;32m    674\u001b[0m             \u001b[1;32mexcept\u001b[0m \u001b[0mComplexWarning\u001b[0m \u001b[1;32mas\u001b[0m \u001b[0mcomplex_warning\u001b[0m\u001b[1;33m:\u001b[0m\u001b[1;33m\u001b[0m\u001b[1;33m\u001b[0m\u001b[0m\n\u001b[0;32m    675\u001b[0m                 raise ValueError(\"Complex data not supported\\n\"\n",
      "\u001b[1;32m~\\anaconda3\\lib\\site-packages\\numpy\\core\\_asarray.py\u001b[0m in \u001b[0;36masarray\u001b[1;34m(a, dtype, order)\u001b[0m\n\u001b[0;32m     83\u001b[0m \u001b[1;33m\u001b[0m\u001b[0m\n\u001b[0;32m     84\u001b[0m     \"\"\"\n\u001b[1;32m---> 85\u001b[1;33m     \u001b[1;32mreturn\u001b[0m \u001b[0marray\u001b[0m\u001b[1;33m(\u001b[0m\u001b[0ma\u001b[0m\u001b[1;33m,\u001b[0m \u001b[0mdtype\u001b[0m\u001b[1;33m,\u001b[0m \u001b[0mcopy\u001b[0m\u001b[1;33m=\u001b[0m\u001b[1;32mFalse\u001b[0m\u001b[1;33m,\u001b[0m \u001b[0morder\u001b[0m\u001b[1;33m=\u001b[0m\u001b[0morder\u001b[0m\u001b[1;33m)\u001b[0m\u001b[1;33m\u001b[0m\u001b[1;33m\u001b[0m\u001b[0m\n\u001b[0m\u001b[0;32m     86\u001b[0m \u001b[1;33m\u001b[0m\u001b[0m\n\u001b[0;32m     87\u001b[0m \u001b[1;33m\u001b[0m\u001b[0m\n",
      "\u001b[1;31mValueError\u001b[0m: could not convert string to float: 'Elounda Ilion Hotel'"
     ]
    }
   ],
   "source": [
    "pca =PCA()\n",
    "pca.fit(df_num)"
   ]
  },
  {
   "cell_type": "code",
   "execution_count": 565,
   "metadata": {},
   "outputs": [
    {
     "ename": "AttributeError",
     "evalue": "'PCA' object has no attribute 'explained_variance_ratio_'",
     "output_type": "error",
     "traceback": [
      "\u001b[1;31m---------------------------------------------------------------------------\u001b[0m",
      "\u001b[1;31mAttributeError\u001b[0m                            Traceback (most recent call last)",
      "\u001b[1;32m<ipython-input-565-742888a5712a>\u001b[0m in \u001b[0;36m<module>\u001b[1;34m\u001b[0m\n\u001b[1;32m----> 1\u001b[1;33m \u001b[0mcumsum\u001b[0m \u001b[1;33m=\u001b[0m\u001b[0mnp\u001b[0m\u001b[1;33m.\u001b[0m\u001b[0mcumsum\u001b[0m\u001b[1;33m(\u001b[0m\u001b[0mpca\u001b[0m\u001b[1;33m.\u001b[0m\u001b[0mexplained_variance_ratio_\u001b[0m\u001b[1;33m)\u001b[0m\u001b[1;33m\u001b[0m\u001b[1;33m\u001b[0m\u001b[0m\n\u001b[0m\u001b[0;32m      2\u001b[0m \u001b[0mcumsum\u001b[0m\u001b[1;33m\u001b[0m\u001b[1;33m\u001b[0m\u001b[0m\n",
      "\u001b[1;31mAttributeError\u001b[0m: 'PCA' object has no attribute 'explained_variance_ratio_'"
     ]
    }
   ],
   "source": [
    "cumsum =np.cumsum(pca.explained_variance_ratio_)\n",
    "cumsum"
   ]
  },
  {
   "cell_type": "code",
   "execution_count": 566,
   "metadata": {},
   "outputs": [
    {
     "data": {
      "text/plain": [
       "Text(0, 0.5, 'Explained variance')"
      ]
     },
     "execution_count": 566,
     "metadata": {},
     "output_type": "execute_result"
    },
    {
     "data": {
      "image/png": "[encoded data removed]",
      "text/plain": [
       "<Figure size 576x432 with 1 Axes>"
      ]
     },
     "metadata": {
      "needs_background": "light"
     },
     "output_type": "display_data"
    }
   ],
   "source": [
    "plt.figure(figsize=(8,6))\n",
    "plt.bar(x=[i for i in range(1,11)],height=cumsum,color='violet')\n",
    "plt.title(\"EXPLAINED VARIANCE WITH NUMBER OF DIMENSION\",color='g')\n",
    "plt.xlabel(\"Dimension\")\n",
    "plt.grid(True,color='blue')\n",
    "plt.ylabel(\"Explained variance\")"
   ]
  },
  {
   "cell_type": "markdown",
   "metadata": {},
   "source": [
    "Grahp convey we need to select 4 dimensions in pca"
   ]
  },
  {
   "cell_type": "code",
   "execution_count": 567,
   "metadata": {},
   "outputs": [
    {
     "ename": "ValueError",
     "evalue": "could not convert string to float: 'Elounda Ilion Hotel'",
     "output_type": "error",
     "traceback": [
      "\u001b[1;31m---------------------------------------------------------------------------\u001b[0m",
      "\u001b[1;31mValueError\u001b[0m                                Traceback (most recent call last)",
      "\u001b[1;32m<ipython-input-567-6ff6f2d140dc>\u001b[0m in \u001b[0;36m<module>\u001b[1;34m\u001b[0m\n\u001b[0;32m      1\u001b[0m \u001b[0mpca\u001b[0m \u001b[1;33m=\u001b[0m\u001b[0mPCA\u001b[0m\u001b[1;33m(\u001b[0m\u001b[0mn_components\u001b[0m\u001b[1;33m=\u001b[0m\u001b[1;36m4\u001b[0m\u001b[1;33m)\u001b[0m\u001b[1;33m\u001b[0m\u001b[1;33m\u001b[0m\u001b[0m\n\u001b[1;32m----> 2\u001b[1;33m \u001b[0mX_num_pca\u001b[0m \u001b[1;33m=\u001b[0m\u001b[0mpca\u001b[0m\u001b[1;33m.\u001b[0m\u001b[0mfit_transform\u001b[0m\u001b[1;33m(\u001b[0m\u001b[0mdf_num\u001b[0m\u001b[1;33m)\u001b[0m\u001b[1;33m\u001b[0m\u001b[1;33m\u001b[0m\u001b[0m\n\u001b[0m",
      "\u001b[1;32m~\\anaconda3\\lib\\site-packages\\sklearn\\decomposition\\_pca.py\u001b[0m in \u001b[0;36mfit_transform\u001b[1;34m(self, X, y)\u001b[0m\n\u001b[0;32m    381\u001b[0m         \u001b[0mC\u001b[0m\u001b[1;33m-\u001b[0m\u001b[0mordered\u001b[0m \u001b[0marray\u001b[0m\u001b[1;33m,\u001b[0m \u001b[0muse\u001b[0m \u001b[1;34m'np.ascontiguousarray'\u001b[0m\u001b[1;33m.\u001b[0m\u001b[1;33m\u001b[0m\u001b[1;33m\u001b[0m\u001b[0m\n\u001b[0;32m    382\u001b[0m         \"\"\"\n\u001b[1;32m--> 383\u001b[1;33m         \u001b[0mU\u001b[0m\u001b[1;33m,\u001b[0m \u001b[0mS\u001b[0m\u001b[1;33m,\u001b[0m \u001b[0mVt\u001b[0m \u001b[1;33m=\u001b[0m \u001b[0mself\u001b[0m\u001b[1;33m.\u001b[0m\u001b[0m_fit\u001b[0m\u001b[1;33m(\u001b[0m\u001b[0mX\u001b[0m\u001b[1;33m)\u001b[0m\u001b[1;33m\u001b[0m\u001b[1;33m\u001b[0m\u001b[0m\n\u001b[0m\u001b[0;32m    384\u001b[0m         \u001b[0mU\u001b[0m \u001b[1;33m=\u001b[0m \u001b[0mU\u001b[0m\u001b[1;33m[\u001b[0m\u001b[1;33m:\u001b[0m\u001b[1;33m,\u001b[0m \u001b[1;33m:\u001b[0m\u001b[0mself\u001b[0m\u001b[1;33m.\u001b[0m\u001b[0mn_components_\u001b[0m\u001b[1;33m]\u001b[0m\u001b[1;33m\u001b[0m\u001b[1;33m\u001b[0m\u001b[0m\n\u001b[0;32m    385\u001b[0m \u001b[1;33m\u001b[0m\u001b[0m\n",
      "\u001b[1;32m~\\anaconda3\\lib\\site-packages\\sklearn\\decomposition\\_pca.py\u001b[0m in \u001b[0;36m_fit\u001b[1;34m(self, X)\u001b[0m\n\u001b[0;32m    402\u001b[0m                             'TruncatedSVD for a possible alternative.')\n\u001b[0;32m    403\u001b[0m \u001b[1;33m\u001b[0m\u001b[0m\n\u001b[1;32m--> 404\u001b[1;33m         X = self._validate_data(X, dtype=[np.float64, np.float32],\n\u001b[0m\u001b[0;32m    405\u001b[0m                                 ensure_2d=True, copy=self.copy)\n\u001b[0;32m    406\u001b[0m \u001b[1;33m\u001b[0m\u001b[0m\n",
      "\u001b[1;32m~\\anaconda3\\lib\\site-packages\\sklearn\\base.py\u001b[0m in \u001b[0;36m_validate_data\u001b[1;34m(self, X, y, reset, validate_separately, **check_params)\u001b[0m\n\u001b[0;32m    419\u001b[0m             \u001b[0mout\u001b[0m \u001b[1;33m=\u001b[0m \u001b[0mX\u001b[0m\u001b[1;33m\u001b[0m\u001b[1;33m\u001b[0m\u001b[0m\n\u001b[0;32m    420\u001b[0m         \u001b[1;32melif\u001b[0m \u001b[0misinstance\u001b[0m\u001b[1;33m(\u001b[0m\u001b[0my\u001b[0m\u001b[1;33m,\u001b[0m \u001b[0mstr\u001b[0m\u001b[1;33m)\u001b[0m \u001b[1;32mand\u001b[0m \u001b[0my\u001b[0m \u001b[1;33m==\u001b[0m \u001b[1;34m'no_validation'\u001b[0m\u001b[1;33m:\u001b[0m\u001b[1;33m\u001b[0m\u001b[1;33m\u001b[0m\u001b[0m\n\u001b[1;32m--> 421\u001b[1;33m             \u001b[0mX\u001b[0m \u001b[1;33m=\u001b[0m \u001b[0mcheck_array\u001b[0m\u001b[1;33m(\u001b[0m\u001b[0mX\u001b[0m\u001b[1;33m,\u001b[0m \u001b[1;33m**\u001b[0m\u001b[0mcheck_params\u001b[0m\u001b[1;33m)\u001b[0m\u001b[1;33m\u001b[0m\u001b[1;33m\u001b[0m\u001b[0m\n\u001b[0m\u001b[0;32m    422\u001b[0m             \u001b[0mout\u001b[0m \u001b[1;33m=\u001b[0m \u001b[0mX\u001b[0m\u001b[1;33m\u001b[0m\u001b[1;33m\u001b[0m\u001b[0m\n\u001b[0;32m    423\u001b[0m         \u001b[1;32melse\u001b[0m\u001b[1;33m:\u001b[0m\u001b[1;33m\u001b[0m\u001b[1;33m\u001b[0m\u001b[0m\n",
      "\u001b[1;32m~\\anaconda3\\lib\\site-packages\\sklearn\\utils\\validation.py\u001b[0m in \u001b[0;36minner_f\u001b[1;34m(*args, **kwargs)\u001b[0m\n\u001b[0;32m     61\u001b[0m             \u001b[0mextra_args\u001b[0m \u001b[1;33m=\u001b[0m \u001b[0mlen\u001b[0m\u001b[1;33m(\u001b[0m\u001b[0margs\u001b[0m\u001b[1;33m)\u001b[0m \u001b[1;33m-\u001b[0m \u001b[0mlen\u001b[0m\u001b[1;33m(\u001b[0m\u001b[0mall_args\u001b[0m\u001b[1;33m)\u001b[0m\u001b[1;33m\u001b[0m\u001b[1;33m\u001b[0m\u001b[0m\n\u001b[0;32m     62\u001b[0m             \u001b[1;32mif\u001b[0m \u001b[0mextra_args\u001b[0m \u001b[1;33m<=\u001b[0m \u001b[1;36m0\u001b[0m\u001b[1;33m:\u001b[0m\u001b[1;33m\u001b[0m\u001b[1;33m\u001b[0m\u001b[0m\n\u001b[1;32m---> 63\u001b[1;33m                 \u001b[1;32mreturn\u001b[0m \u001b[0mf\u001b[0m\u001b[1;33m(\u001b[0m\u001b[1;33m*\u001b[0m\u001b[0margs\u001b[0m\u001b[1;33m,\u001b[0m \u001b[1;33m**\u001b[0m\u001b[0mkwargs\u001b[0m\u001b[1;33m)\u001b[0m\u001b[1;33m\u001b[0m\u001b[1;33m\u001b[0m\u001b[0m\n\u001b[0m\u001b[0;32m     64\u001b[0m \u001b[1;33m\u001b[0m\u001b[0m\n\u001b[0;32m     65\u001b[0m             \u001b[1;31m# extra_args > 0\u001b[0m\u001b[1;33m\u001b[0m\u001b[1;33m\u001b[0m\u001b[1;33m\u001b[0m\u001b[0m\n",
      "\u001b[1;32m~\\anaconda3\\lib\\site-packages\\sklearn\\utils\\validation.py\u001b[0m in \u001b[0;36mcheck_array\u001b[1;34m(array, accept_sparse, accept_large_sparse, dtype, order, copy, force_all_finite, ensure_2d, allow_nd, ensure_min_samples, ensure_min_features, estimator)\u001b[0m\n\u001b[0;32m    671\u001b[0m                     \u001b[0marray\u001b[0m \u001b[1;33m=\u001b[0m \u001b[0marray\u001b[0m\u001b[1;33m.\u001b[0m\u001b[0mastype\u001b[0m\u001b[1;33m(\u001b[0m\u001b[0mdtype\u001b[0m\u001b[1;33m,\u001b[0m \u001b[0mcasting\u001b[0m\u001b[1;33m=\u001b[0m\u001b[1;34m\"unsafe\"\u001b[0m\u001b[1;33m,\u001b[0m \u001b[0mcopy\u001b[0m\u001b[1;33m=\u001b[0m\u001b[1;32mFalse\u001b[0m\u001b[1;33m)\u001b[0m\u001b[1;33m\u001b[0m\u001b[1;33m\u001b[0m\u001b[0m\n\u001b[0;32m    672\u001b[0m                 \u001b[1;32melse\u001b[0m\u001b[1;33m:\u001b[0m\u001b[1;33m\u001b[0m\u001b[1;33m\u001b[0m\u001b[0m\n\u001b[1;32m--> 673\u001b[1;33m                     \u001b[0marray\u001b[0m \u001b[1;33m=\u001b[0m \u001b[0mnp\u001b[0m\u001b[1;33m.\u001b[0m\u001b[0masarray\u001b[0m\u001b[1;33m(\u001b[0m\u001b[0marray\u001b[0m\u001b[1;33m,\u001b[0m \u001b[0morder\u001b[0m\u001b[1;33m=\u001b[0m\u001b[0morder\u001b[0m\u001b[1;33m,\u001b[0m \u001b[0mdtype\u001b[0m\u001b[1;33m=\u001b[0m\u001b[0mdtype\u001b[0m\u001b[1;33m)\u001b[0m\u001b[1;33m\u001b[0m\u001b[1;33m\u001b[0m\u001b[0m\n\u001b[0m\u001b[0;32m    674\u001b[0m             \u001b[1;32mexcept\u001b[0m \u001b[0mComplexWarning\u001b[0m \u001b[1;32mas\u001b[0m \u001b[0mcomplex_warning\u001b[0m\u001b[1;33m:\u001b[0m\u001b[1;33m\u001b[0m\u001b[1;33m\u001b[0m\u001b[0m\n\u001b[0;32m    675\u001b[0m                 raise ValueError(\"Complex data not supported\\n\"\n",
      "\u001b[1;32m~\\anaconda3\\lib\\site-packages\\numpy\\core\\_asarray.py\u001b[0m in \u001b[0;36masarray\u001b[1;34m(a, dtype, order)\u001b[0m\n\u001b[0;32m     83\u001b[0m \u001b[1;33m\u001b[0m\u001b[0m\n\u001b[0;32m     84\u001b[0m     \"\"\"\n\u001b[1;32m---> 85\u001b[1;33m     \u001b[1;32mreturn\u001b[0m \u001b[0marray\u001b[0m\u001b[1;33m(\u001b[0m\u001b[0ma\u001b[0m\u001b[1;33m,\u001b[0m \u001b[0mdtype\u001b[0m\u001b[1;33m,\u001b[0m \u001b[0mcopy\u001b[0m\u001b[1;33m=\u001b[0m\u001b[1;32mFalse\u001b[0m\u001b[1;33m,\u001b[0m \u001b[0morder\u001b[0m\u001b[1;33m=\u001b[0m\u001b[0morder\u001b[0m\u001b[1;33m)\u001b[0m\u001b[1;33m\u001b[0m\u001b[1;33m\u001b[0m\u001b[0m\n\u001b[0m\u001b[0;32m     86\u001b[0m \u001b[1;33m\u001b[0m\u001b[0m\n\u001b[0;32m     87\u001b[0m \u001b[1;33m\u001b[0m\u001b[0m\n",
      "\u001b[1;31mValueError\u001b[0m: could not convert string to float: 'Elounda Ilion Hotel'"
     ]
    }
   ],
   "source": [
    "pca =PCA(n_components=4)\n",
    "X_num_pca =pca.fit_transform(df_num)"
   ]
  },
  {
   "cell_type": "code",
   "execution_count": 392,
   "metadata": {},
   "outputs": [
    {
     "data": {
      "text/html": [
       "<div>\n",
       "<style scoped>\n",
       "    .dataframe tbody tr th:only-of-type {\n",
       "        vertical-align: middle;\n",
       "    }\n",
       "\n",
       "    .dataframe tbody tr th {\n",
       "        vertical-align: top;\n",
       "    }\n",
       "\n",
       "    .dataframe thead th {\n",
       "        text-align: right;\n",
       "    }\n",
       "</style>\n",
       "<table border=\"1\" class=\"dataframe\">\n",
       "  <thead>\n",
       "    <tr style=\"text-align: right;\">\n",
       "      <th></th>\n",
       "      <th>Air conditioning:</th>\n",
       "      <th>Coffee/tea maker:</th>\n",
       "      <th>Wi-Fi [free]:</th>\n",
       "      <th>Toiletries:</th>\n",
       "      <th>propertytype_Holiday parks</th>\n",
       "      <th>propertytype_Hotels</th>\n",
       "      <th>propertytype_Inns</th>\n",
       "      <th>propertytype_Motels</th>\n",
       "      <th>propertytype_Resorts</th>\n",
       "      <th>curr_GBP</th>\n",
       "      <th>ispromo_Y</th>\n",
       "      <th>curr_GBP</th>\n",
       "    </tr>\n",
       "  </thead>\n",
       "  <tbody>\n",
       "    <tr>\n",
       "      <th>0</th>\n",
       "      <td>1</td>\n",
       "      <td>1</td>\n",
       "      <td>0</td>\n",
       "      <td>1</td>\n",
       "      <td>0</td>\n",
       "      <td>1</td>\n",
       "      <td>0</td>\n",
       "      <td>0</td>\n",
       "      <td>0</td>\n",
       "      <td>0</td>\n",
       "      <td>1</td>\n",
       "      <td>0</td>\n",
       "    </tr>\n",
       "    <tr>\n",
       "      <th>1</th>\n",
       "      <td>1</td>\n",
       "      <td>0</td>\n",
       "      <td>0</td>\n",
       "      <td>0</td>\n",
       "      <td>0</td>\n",
       "      <td>1</td>\n",
       "      <td>0</td>\n",
       "      <td>0</td>\n",
       "      <td>0</td>\n",
       "      <td>0</td>\n",
       "      <td>0</td>\n",
       "      <td>0</td>\n",
       "    </tr>\n",
       "    <tr>\n",
       "      <th>2</th>\n",
       "      <td>1</td>\n",
       "      <td>0</td>\n",
       "      <td>0</td>\n",
       "      <td>1</td>\n",
       "      <td>0</td>\n",
       "      <td>1</td>\n",
       "      <td>0</td>\n",
       "      <td>0</td>\n",
       "      <td>0</td>\n",
       "      <td>0</td>\n",
       "      <td>0</td>\n",
       "      <td>0</td>\n",
       "    </tr>\n",
       "    <tr>\n",
       "      <th>3</th>\n",
       "      <td>1</td>\n",
       "      <td>1</td>\n",
       "      <td>0</td>\n",
       "      <td>1</td>\n",
       "      <td>0</td>\n",
       "      <td>1</td>\n",
       "      <td>0</td>\n",
       "      <td>0</td>\n",
       "      <td>0</td>\n",
       "      <td>0</td>\n",
       "      <td>0</td>\n",
       "      <td>0</td>\n",
       "    </tr>\n",
       "    <tr>\n",
       "      <th>5</th>\n",
       "      <td>1</td>\n",
       "      <td>0</td>\n",
       "      <td>0</td>\n",
       "      <td>0</td>\n",
       "      <td>0</td>\n",
       "      <td>1</td>\n",
       "      <td>0</td>\n",
       "      <td>0</td>\n",
       "      <td>0</td>\n",
       "      <td>0</td>\n",
       "      <td>0</td>\n",
       "      <td>0</td>\n",
       "    </tr>\n",
       "  </tbody>\n",
       "</table>\n",
       "</div>"
      ],
      "text/plain": [
       "   Air conditioning:   Coffee/tea maker:   Wi-Fi [free]:   Toiletries:   \\\n",
       "0                   1                   1               0             1   \n",
       "1                   1                   0               0             0   \n",
       "2                   1                   0               0             1   \n",
       "3                   1                   1               0             1   \n",
       "5                   1                   0               0             0   \n",
       "\n",
       "   propertytype_Holiday parks  propertytype_Hotels  propertytype_Inns  \\\n",
       "0                           0                    1                  0   \n",
       "1                           0                    1                  0   \n",
       "2                           0                    1                  0   \n",
       "3                           0                    1                  0   \n",
       "5                           0                    1                  0   \n",
       "\n",
       "   propertytype_Motels  propertytype_Resorts  curr_GBP  ispromo_Y  curr_GBP  \n",
       "0                    0                     0         0          1         0  \n",
       "1                    0                     0         0          0         0  \n",
       "2                    0                     0         0          0         0  \n",
       "3                    0                     0         0          0         0  \n",
       "5                    0                     0         0          0         0  "
      ]
     },
     "execution_count": 392,
     "metadata": {},
     "output_type": "execute_result"
    }
   ],
   "source": [
    "df_cat = df_hotel.iloc[:,10:]\n",
    "df_cat.head()"
   ]
  },
  {
   "cell_type": "code",
   "execution_count": 393,
   "metadata": {},
   "outputs": [
    {
     "data": {
      "text/plain": [
       "(6877, 12)"
      ]
     },
     "execution_count": 393,
     "metadata": {},
     "output_type": "execute_result"
    }
   ],
   "source": [
    "df_cat.shape"
   ]
  },
  {
   "cell_type": "code",
   "execution_count": 394,
   "metadata": {},
   "outputs": [
    {
     "data": {
      "text/plain": [
       "MCA(n_components=27)"
      ]
     },
     "execution_count": 394,
     "metadata": {},
     "output_type": "execute_result"
    }
   ],
   "source": [
    "mca =MCA(n_components=27)\n",
    "mca.fit(df_cat)"
   ]
  },
  {
   "cell_type": "code",
   "execution_count": 395,
   "metadata": {},
   "outputs": [
    {
     "data": {
      "text/plain": [
       "array([0.1918038 , 0.34355679, 0.4843198 , 0.6020664 , 0.71861615,\n",
       "       0.82764642, 0.90484431, 0.9685675 , 0.99996696, 1.        ,\n",
       "       1.        , 1.        ])"
      ]
     },
     "execution_count": 395,
     "metadata": {},
     "output_type": "execute_result"
    }
   ],
   "source": [
    "cumsum_cat =np.cumsum(np.array(mca.eigenvalues_)/sum(mca.eigenvalues_))\n",
    "cumsum_cat  # at 22 we are almost getting 1"
   ]
  },
  {
   "cell_type": "code",
   "execution_count": 397,
   "metadata": {},
   "outputs": [
    {
     "ename": "ValueError",
     "evalue": "shape mismatch: objects cannot be broadcast to a single shape",
     "output_type": "error",
     "traceback": [
      "\u001b[1;31m---------------------------------------------------------------------------\u001b[0m",
      "\u001b[1;31mValueError\u001b[0m                                Traceback (most recent call last)",
      "\u001b[1;32m<ipython-input-397-e45501d42b44>\u001b[0m in \u001b[0;36m<module>\u001b[1;34m\u001b[0m\n\u001b[0;32m      1\u001b[0m \u001b[0mplt\u001b[0m\u001b[1;33m.\u001b[0m\u001b[0mfigure\u001b[0m\u001b[1;33m(\u001b[0m\u001b[0mfigsize\u001b[0m\u001b[1;33m=\u001b[0m\u001b[1;33m(\u001b[0m\u001b[1;36m8\u001b[0m\u001b[1;33m,\u001b[0m\u001b[1;36m6\u001b[0m\u001b[1;33m)\u001b[0m\u001b[1;33m)\u001b[0m\u001b[1;33m\u001b[0m\u001b[1;33m\u001b[0m\u001b[0m\n\u001b[1;32m----> 2\u001b[1;33m \u001b[0mplt\u001b[0m\u001b[1;33m.\u001b[0m\u001b[0mbar\u001b[0m\u001b[1;33m(\u001b[0m\u001b[0mx\u001b[0m\u001b[1;33m=\u001b[0m\u001b[1;33m[\u001b[0m\u001b[0mi\u001b[0m \u001b[1;32mfor\u001b[0m \u001b[0mi\u001b[0m \u001b[1;32min\u001b[0m \u001b[0mrange\u001b[0m\u001b[1;33m(\u001b[0m\u001b[1;36m1\u001b[0m\u001b[1;33m,\u001b[0m\u001b[1;36m28\u001b[0m\u001b[1;33m)\u001b[0m\u001b[1;33m]\u001b[0m\u001b[1;33m,\u001b[0m\u001b[0mheight\u001b[0m\u001b[1;33m=\u001b[0m\u001b[0mcumsum_cat\u001b[0m\u001b[1;33m,\u001b[0m\u001b[0mcolor\u001b[0m\u001b[1;33m=\u001b[0m\u001b[1;34m'indigo'\u001b[0m\u001b[1;33m)\u001b[0m\u001b[1;33m\u001b[0m\u001b[1;33m\u001b[0m\u001b[0m\n\u001b[0m\u001b[0;32m      3\u001b[0m \u001b[0mplt\u001b[0m\u001b[1;33m.\u001b[0m\u001b[0mtitle\u001b[0m\u001b[1;33m(\u001b[0m\u001b[1;34m\"EXPLAINED VARIANCE WITH NUMBER OF DIMENSION\"\u001b[0m\u001b[1;33m,\u001b[0m\u001b[0mcolor\u001b[0m\u001b[1;33m=\u001b[0m\u001b[1;34m'g'\u001b[0m\u001b[1;33m)\u001b[0m\u001b[1;33m\u001b[0m\u001b[1;33m\u001b[0m\u001b[0m\n\u001b[0;32m      4\u001b[0m \u001b[0mplt\u001b[0m\u001b[1;33m.\u001b[0m\u001b[0mxlabel\u001b[0m\u001b[1;33m(\u001b[0m\u001b[1;34m\"Dimension\"\u001b[0m\u001b[1;33m)\u001b[0m\u001b[1;33m\u001b[0m\u001b[1;33m\u001b[0m\u001b[0m\n\u001b[0;32m      5\u001b[0m \u001b[0mplt\u001b[0m\u001b[1;33m.\u001b[0m\u001b[0mgrid\u001b[0m\u001b[1;33m(\u001b[0m\u001b[1;32mTrue\u001b[0m\u001b[1;33m,\u001b[0m\u001b[0mcolor\u001b[0m\u001b[1;33m=\u001b[0m\u001b[1;34m'blue'\u001b[0m\u001b[1;33m)\u001b[0m\u001b[1;33m\u001b[0m\u001b[1;33m\u001b[0m\u001b[0m\n",
      "\u001b[1;32m~\\anaconda3\\lib\\site-packages\\matplotlib\\pyplot.py\u001b[0m in \u001b[0;36mbar\u001b[1;34m(x, height, width, bottom, align, data, **kwargs)\u001b[0m\n\u001b[0;32m   2405\u001b[0m         \u001b[0mx\u001b[0m\u001b[1;33m,\u001b[0m \u001b[0mheight\u001b[0m\u001b[1;33m,\u001b[0m \u001b[0mwidth\u001b[0m\u001b[1;33m=\u001b[0m\u001b[1;36m0.8\u001b[0m\u001b[1;33m,\u001b[0m \u001b[0mbottom\u001b[0m\u001b[1;33m=\u001b[0m\u001b[1;32mNone\u001b[0m\u001b[1;33m,\u001b[0m \u001b[1;33m*\u001b[0m\u001b[1;33m,\u001b[0m \u001b[0malign\u001b[0m\u001b[1;33m=\u001b[0m\u001b[1;34m'center'\u001b[0m\u001b[1;33m,\u001b[0m\u001b[1;33m\u001b[0m\u001b[1;33m\u001b[0m\u001b[0m\n\u001b[0;32m   2406\u001b[0m         data=None, **kwargs):\n\u001b[1;32m-> 2407\u001b[1;33m     return gca().bar(\n\u001b[0m\u001b[0;32m   2408\u001b[0m         \u001b[0mx\u001b[0m\u001b[1;33m,\u001b[0m \u001b[0mheight\u001b[0m\u001b[1;33m,\u001b[0m \u001b[0mwidth\u001b[0m\u001b[1;33m=\u001b[0m\u001b[0mwidth\u001b[0m\u001b[1;33m,\u001b[0m \u001b[0mbottom\u001b[0m\u001b[1;33m=\u001b[0m\u001b[0mbottom\u001b[0m\u001b[1;33m,\u001b[0m \u001b[0malign\u001b[0m\u001b[1;33m=\u001b[0m\u001b[0malign\u001b[0m\u001b[1;33m,\u001b[0m\u001b[1;33m\u001b[0m\u001b[1;33m\u001b[0m\u001b[0m\n\u001b[0;32m   2409\u001b[0m         **({\"data\": data} if data is not None else {}), **kwargs)\n",
      "\u001b[1;32m~\\anaconda3\\lib\\site-packages\\matplotlib\\__init__.py\u001b[0m in \u001b[0;36minner\u001b[1;34m(ax, data, *args, **kwargs)\u001b[0m\n\u001b[0;32m   1563\u001b[0m     \u001b[1;32mdef\u001b[0m \u001b[0minner\u001b[0m\u001b[1;33m(\u001b[0m\u001b[0max\u001b[0m\u001b[1;33m,\u001b[0m \u001b[1;33m*\u001b[0m\u001b[0margs\u001b[0m\u001b[1;33m,\u001b[0m \u001b[0mdata\u001b[0m\u001b[1;33m=\u001b[0m\u001b[1;32mNone\u001b[0m\u001b[1;33m,\u001b[0m \u001b[1;33m**\u001b[0m\u001b[0mkwargs\u001b[0m\u001b[1;33m)\u001b[0m\u001b[1;33m:\u001b[0m\u001b[1;33m\u001b[0m\u001b[1;33m\u001b[0m\u001b[0m\n\u001b[0;32m   1564\u001b[0m         \u001b[1;32mif\u001b[0m \u001b[0mdata\u001b[0m \u001b[1;32mis\u001b[0m \u001b[1;32mNone\u001b[0m\u001b[1;33m:\u001b[0m\u001b[1;33m\u001b[0m\u001b[1;33m\u001b[0m\u001b[0m\n\u001b[1;32m-> 1565\u001b[1;33m             \u001b[1;32mreturn\u001b[0m \u001b[0mfunc\u001b[0m\u001b[1;33m(\u001b[0m\u001b[0max\u001b[0m\u001b[1;33m,\u001b[0m \u001b[1;33m*\u001b[0m\u001b[0mmap\u001b[0m\u001b[1;33m(\u001b[0m\u001b[0msanitize_sequence\u001b[0m\u001b[1;33m,\u001b[0m \u001b[0margs\u001b[0m\u001b[1;33m)\u001b[0m\u001b[1;33m,\u001b[0m \u001b[1;33m**\u001b[0m\u001b[0mkwargs\u001b[0m\u001b[1;33m)\u001b[0m\u001b[1;33m\u001b[0m\u001b[1;33m\u001b[0m\u001b[0m\n\u001b[0m\u001b[0;32m   1566\u001b[0m \u001b[1;33m\u001b[0m\u001b[0m\n\u001b[0;32m   1567\u001b[0m         \u001b[0mbound\u001b[0m \u001b[1;33m=\u001b[0m \u001b[0mnew_sig\u001b[0m\u001b[1;33m.\u001b[0m\u001b[0mbind\u001b[0m\u001b[1;33m(\u001b[0m\u001b[0max\u001b[0m\u001b[1;33m,\u001b[0m \u001b[1;33m*\u001b[0m\u001b[0margs\u001b[0m\u001b[1;33m,\u001b[0m \u001b[1;33m**\u001b[0m\u001b[0mkwargs\u001b[0m\u001b[1;33m)\u001b[0m\u001b[1;33m\u001b[0m\u001b[1;33m\u001b[0m\u001b[0m\n",
      "\u001b[1;32m~\\anaconda3\\lib\\site-packages\\matplotlib\\axes\\_axes.py\u001b[0m in \u001b[0;36mbar\u001b[1;34m(self, x, height, width, bottom, align, **kwargs)\u001b[0m\n\u001b[0;32m   2338\u001b[0m                 \u001b[0myerr\u001b[0m \u001b[1;33m=\u001b[0m \u001b[0mself\u001b[0m\u001b[1;33m.\u001b[0m\u001b[0m_convert_dx\u001b[0m\u001b[1;33m(\u001b[0m\u001b[0myerr\u001b[0m\u001b[1;33m,\u001b[0m \u001b[0my0\u001b[0m\u001b[1;33m,\u001b[0m \u001b[0my\u001b[0m\u001b[1;33m,\u001b[0m \u001b[0mself\u001b[0m\u001b[1;33m.\u001b[0m\u001b[0mconvert_yunits\u001b[0m\u001b[1;33m)\u001b[0m\u001b[1;33m\u001b[0m\u001b[1;33m\u001b[0m\u001b[0m\n\u001b[0;32m   2339\u001b[0m \u001b[1;33m\u001b[0m\u001b[0m\n\u001b[1;32m-> 2340\u001b[1;33m         x, height, width, y, linewidth = np.broadcast_arrays(\n\u001b[0m\u001b[0;32m   2341\u001b[0m             \u001b[1;31m# Make args iterable too.\u001b[0m\u001b[1;33m\u001b[0m\u001b[1;33m\u001b[0m\u001b[1;33m\u001b[0m\u001b[0m\n\u001b[0;32m   2342\u001b[0m             np.atleast_1d(x), height, width, y, linewidth)\n",
      "\u001b[1;32m<__array_function__ internals>\u001b[0m in \u001b[0;36mbroadcast_arrays\u001b[1;34m(*args, **kwargs)\u001b[0m\n",
      "\u001b[1;32m~\\anaconda3\\lib\\site-packages\\numpy\\lib\\stride_tricks.py\u001b[0m in \u001b[0;36mbroadcast_arrays\u001b[1;34m(*args, **kwargs)\u001b[0m\n\u001b[0;32m    262\u001b[0m     \u001b[0margs\u001b[0m \u001b[1;33m=\u001b[0m \u001b[1;33m[\u001b[0m\u001b[0mnp\u001b[0m\u001b[1;33m.\u001b[0m\u001b[0marray\u001b[0m\u001b[1;33m(\u001b[0m\u001b[0m_m\u001b[0m\u001b[1;33m,\u001b[0m \u001b[0mcopy\u001b[0m\u001b[1;33m=\u001b[0m\u001b[1;32mFalse\u001b[0m\u001b[1;33m,\u001b[0m \u001b[0msubok\u001b[0m\u001b[1;33m=\u001b[0m\u001b[0msubok\u001b[0m\u001b[1;33m)\u001b[0m \u001b[1;32mfor\u001b[0m \u001b[0m_m\u001b[0m \u001b[1;32min\u001b[0m \u001b[0margs\u001b[0m\u001b[1;33m]\u001b[0m\u001b[1;33m\u001b[0m\u001b[1;33m\u001b[0m\u001b[0m\n\u001b[0;32m    263\u001b[0m \u001b[1;33m\u001b[0m\u001b[0m\n\u001b[1;32m--> 264\u001b[1;33m     \u001b[0mshape\u001b[0m \u001b[1;33m=\u001b[0m \u001b[0m_broadcast_shape\u001b[0m\u001b[1;33m(\u001b[0m\u001b[1;33m*\u001b[0m\u001b[0margs\u001b[0m\u001b[1;33m)\u001b[0m\u001b[1;33m\u001b[0m\u001b[1;33m\u001b[0m\u001b[0m\n\u001b[0m\u001b[0;32m    265\u001b[0m \u001b[1;33m\u001b[0m\u001b[0m\n\u001b[0;32m    266\u001b[0m     \u001b[1;32mif\u001b[0m \u001b[0mall\u001b[0m\u001b[1;33m(\u001b[0m\u001b[0marray\u001b[0m\u001b[1;33m.\u001b[0m\u001b[0mshape\u001b[0m \u001b[1;33m==\u001b[0m \u001b[0mshape\u001b[0m \u001b[1;32mfor\u001b[0m \u001b[0marray\u001b[0m \u001b[1;32min\u001b[0m \u001b[0margs\u001b[0m\u001b[1;33m)\u001b[0m\u001b[1;33m:\u001b[0m\u001b[1;33m\u001b[0m\u001b[1;33m\u001b[0m\u001b[0m\n",
      "\u001b[1;32m~\\anaconda3\\lib\\site-packages\\numpy\\lib\\stride_tricks.py\u001b[0m in \u001b[0;36m_broadcast_shape\u001b[1;34m(*args)\u001b[0m\n\u001b[0;32m    189\u001b[0m     \u001b[1;31m# use the old-iterator because np.nditer does not handle size 0 arrays\u001b[0m\u001b[1;33m\u001b[0m\u001b[1;33m\u001b[0m\u001b[1;33m\u001b[0m\u001b[0m\n\u001b[0;32m    190\u001b[0m     \u001b[1;31m# consistently\u001b[0m\u001b[1;33m\u001b[0m\u001b[1;33m\u001b[0m\u001b[1;33m\u001b[0m\u001b[0m\n\u001b[1;32m--> 191\u001b[1;33m     \u001b[0mb\u001b[0m \u001b[1;33m=\u001b[0m \u001b[0mnp\u001b[0m\u001b[1;33m.\u001b[0m\u001b[0mbroadcast\u001b[0m\u001b[1;33m(\u001b[0m\u001b[1;33m*\u001b[0m\u001b[0margs\u001b[0m\u001b[1;33m[\u001b[0m\u001b[1;33m:\u001b[0m\u001b[1;36m32\u001b[0m\u001b[1;33m]\u001b[0m\u001b[1;33m)\u001b[0m\u001b[1;33m\u001b[0m\u001b[1;33m\u001b[0m\u001b[0m\n\u001b[0m\u001b[0;32m    192\u001b[0m     \u001b[1;31m# unfortunately, it cannot handle 32 or more arguments directly\u001b[0m\u001b[1;33m\u001b[0m\u001b[1;33m\u001b[0m\u001b[1;33m\u001b[0m\u001b[0m\n\u001b[0;32m    193\u001b[0m     \u001b[1;32mfor\u001b[0m \u001b[0mpos\u001b[0m \u001b[1;32min\u001b[0m \u001b[0mrange\u001b[0m\u001b[1;33m(\u001b[0m\u001b[1;36m32\u001b[0m\u001b[1;33m,\u001b[0m \u001b[0mlen\u001b[0m\u001b[1;33m(\u001b[0m\u001b[0margs\u001b[0m\u001b[1;33m)\u001b[0m\u001b[1;33m,\u001b[0m \u001b[1;36m31\u001b[0m\u001b[1;33m)\u001b[0m\u001b[1;33m:\u001b[0m\u001b[1;33m\u001b[0m\u001b[1;33m\u001b[0m\u001b[0m\n",
      "\u001b[1;31mValueError\u001b[0m: shape mismatch: objects cannot be broadcast to a single shape"
     ]
    },
    {
     "data": {
      "image/png": "[encoded data removed]",
      "text/plain": [
       "<Figure size 576x432 with 1 Axes>"
      ]
     },
     "metadata": {
      "needs_background": "light"
     },
     "output_type": "display_data"
    }
   ],
   "source": [
    "plt.figure(figsize=(8,6))\n",
    "plt.bar(x=[i for i in range(1,28)],height=cumsum_cat,color='indigo')\n",
    "plt.title(\"EXPLAINED VARIANCE WITH NUMBER OF DIMENSION\",color='g')\n",
    "plt.xlabel(\"Dimension\")\n",
    "plt.grid(True,color='blue')\n",
    "plt.ylabel(\"Explained variance\")"
   ]
  },
  {
   "cell_type": "markdown",
   "metadata": {},
   "source": [
    "from the graph we can choose the dimension as 16 which almost give information about explained variance of  99.99 percent"
   ]
  },
  {
   "cell_type": "code",
   "execution_count": 398,
   "metadata": {},
   "outputs": [],
   "source": [
    "mca =MCA(n_components=16)\n",
    "X_cat_mca =mca.fit_transform(df_cat)"
   ]
  },
  {
   "cell_type": "code",
   "execution_count": 399,
   "metadata": {},
   "outputs": [
    {
     "data": {
      "text/plain": [
       "(6877, 12)"
      ]
     },
     "execution_count": 399,
     "metadata": {},
     "output_type": "execute_result"
    }
   ],
   "source": [
    "X_cat_mca.shape"
   ]
  },
  {
   "cell_type": "code",
   "execution_count": 400,
   "metadata": {},
   "outputs": [
    {
     "data": {
      "text/html": [
       "<div>\n",
       "<style scoped>\n",
       "    .dataframe tbody tr th:only-of-type {\n",
       "        vertical-align: middle;\n",
       "    }\n",
       "\n",
       "    .dataframe tbody tr th {\n",
       "        vertical-align: top;\n",
       "    }\n",
       "\n",
       "    .dataframe thead th {\n",
       "        text-align: right;\n",
       "    }\n",
       "</style>\n",
       "<table border=\"1\" class=\"dataframe\">\n",
       "  <thead>\n",
       "    <tr style=\"text-align: right;\">\n",
       "      <th></th>\n",
       "      <th>0</th>\n",
       "      <th>1</th>\n",
       "      <th>2</th>\n",
       "      <th>3</th>\n",
       "      <th>4</th>\n",
       "      <th>5</th>\n",
       "      <th>6</th>\n",
       "      <th>7</th>\n",
       "      <th>8</th>\n",
       "      <th>9</th>\n",
       "      <th>10</th>\n",
       "      <th>11</th>\n",
       "    </tr>\n",
       "  </thead>\n",
       "  <tbody>\n",
       "    <tr>\n",
       "      <th>0</th>\n",
       "      <td>-0.000336</td>\n",
       "      <td>0.015396</td>\n",
       "      <td>-0.055544</td>\n",
       "      <td>0.422059</td>\n",
       "      <td>-0.351279</td>\n",
       "      <td>-0.071712</td>\n",
       "      <td>-0.513305</td>\n",
       "      <td>0.244740</td>\n",
       "      <td>0.099715</td>\n",
       "      <td>-0.000201</td>\n",
       "      <td>1.0</td>\n",
       "      <td>5.402029e-14</td>\n",
       "    </tr>\n",
       "    <tr>\n",
       "      <th>1</th>\n",
       "      <td>-0.002315</td>\n",
       "      <td>-0.050373</td>\n",
       "      <td>-0.065881</td>\n",
       "      <td>0.295655</td>\n",
       "      <td>-0.241968</td>\n",
       "      <td>-0.128587</td>\n",
       "      <td>0.610627</td>\n",
       "      <td>-0.430347</td>\n",
       "      <td>0.668621</td>\n",
       "      <td>0.000295</td>\n",
       "      <td>1.0</td>\n",
       "      <td>5.405295e-14</td>\n",
       "    </tr>\n",
       "    <tr>\n",
       "      <th>2</th>\n",
       "      <td>0.006350</td>\n",
       "      <td>-0.010732</td>\n",
       "      <td>-0.071801</td>\n",
       "      <td>0.417151</td>\n",
       "      <td>-0.371422</td>\n",
       "      <td>-0.147931</td>\n",
       "      <td>0.535082</td>\n",
       "      <td>-0.072272</td>\n",
       "      <td>-0.217846</td>\n",
       "      <td>-0.000439</td>\n",
       "      <td>1.0</td>\n",
       "      <td>5.406043e-14</td>\n",
       "    </tr>\n",
       "    <tr>\n",
       "      <th>3</th>\n",
       "      <td>-0.000978</td>\n",
       "      <td>0.013013</td>\n",
       "      <td>-0.049386</td>\n",
       "      <td>0.293424</td>\n",
       "      <td>-0.290166</td>\n",
       "      <td>-0.080382</td>\n",
       "      <td>0.169507</td>\n",
       "      <td>0.650413</td>\n",
       "      <td>0.140208</td>\n",
       "      <td>-0.000459</td>\n",
       "      <td>1.0</td>\n",
       "      <td>5.404149e-14</td>\n",
       "    </tr>\n",
       "    <tr>\n",
       "      <th>5</th>\n",
       "      <td>-0.002315</td>\n",
       "      <td>-0.050373</td>\n",
       "      <td>-0.065881</td>\n",
       "      <td>0.295655</td>\n",
       "      <td>-0.241968</td>\n",
       "      <td>-0.128587</td>\n",
       "      <td>0.610627</td>\n",
       "      <td>-0.430347</td>\n",
       "      <td>0.668621</td>\n",
       "      <td>0.000295</td>\n",
       "      <td>1.0</td>\n",
       "      <td>5.405295e-14</td>\n",
       "    </tr>\n",
       "  </tbody>\n",
       "</table>\n",
       "</div>"
      ],
      "text/plain": [
       "          0         1         2         3         4         5         6  \\\n",
       "0 -0.000336  0.015396 -0.055544  0.422059 -0.351279 -0.071712 -0.513305   \n",
       "1 -0.002315 -0.050373 -0.065881  0.295655 -0.241968 -0.128587  0.610627   \n",
       "2  0.006350 -0.010732 -0.071801  0.417151 -0.371422 -0.147931  0.535082   \n",
       "3 -0.000978  0.013013 -0.049386  0.293424 -0.290166 -0.080382  0.169507   \n",
       "5 -0.002315 -0.050373 -0.065881  0.295655 -0.241968 -0.128587  0.610627   \n",
       "\n",
       "          7         8         9   10            11  \n",
       "0  0.244740  0.099715 -0.000201  1.0  5.402029e-14  \n",
       "1 -0.430347  0.668621  0.000295  1.0  5.405295e-14  \n",
       "2 -0.072272 -0.217846 -0.000439  1.0  5.406043e-14  \n",
       "3  0.650413  0.140208 -0.000459  1.0  5.404149e-14  \n",
       "5 -0.430347  0.668621  0.000295  1.0  5.405295e-14  "
      ]
     },
     "execution_count": 400,
     "metadata": {},
     "output_type": "execute_result"
    }
   ],
   "source": [
    "X_cat_mca.head()"
   ]
  },
  {
   "cell_type": "code",
   "execution_count": 401,
   "metadata": {},
   "outputs": [
    {
     "data": {
      "text/plain": [
       "(6877, 4)"
      ]
     },
     "execution_count": 401,
     "metadata": {},
     "output_type": "execute_result"
    }
   ],
   "source": [
    "X_num_pca.shape"
   ]
  },
  {
   "cell_type": "code",
   "execution_count": 402,
   "metadata": {},
   "outputs": [
    {
     "data": {
      "text/plain": [
       "(6877, 16)"
      ]
     },
     "execution_count": 402,
     "metadata": {},
     "output_type": "execute_result"
    }
   ],
   "source": [
    "X_combined_mca_pca = np.column_stack((X_num_pca,X_cat_mca))  # stacking both pca and mca columns\n",
    "X_combined_mca_pca.shape"
   ]
  },
  {
   "cell_type": "code",
   "execution_count": 403,
   "metadata": {},
   "outputs": [],
   "source": [
    "scaler =MinMaxScaler()\n",
    "Xs =scaler.fit_transform(X_combined_mca_pca)  #  scaling "
   ]
  },
  {
   "cell_type": "code",
   "execution_count": 404,
   "metadata": {},
   "outputs": [
    {
     "data": {
      "text/plain": [
       "(6877, 16)"
      ]
     },
     "execution_count": 404,
     "metadata": {},
     "output_type": "execute_result"
    }
   ],
   "source": [
    "Xs.shape"
   ]
  },
  {
   "cell_type": "markdown",
   "metadata": {},
   "source": [
    "### K means clustering"
   ]
  },
  {
   "cell_type": "code",
   "execution_count": null,
   "metadata": {},
   "outputs": [],
   "source": [
    "from sklearn.cluster import KMeans\n",
    "X = Xs\n",
    "error = []\n",
    "\n",
    "for k in range(1,30):\n",
    "    kmeans = KMeans(n_clusters=k)\n",
    "    kmeans.fit(X)\n",
    "    error.append(kmeans.inertia_)\n",
    "    \n",
    "# Visualization of k values:\n",
    "plt.figure(figsize=(10,8))\n",
    "plt.plot(range(1,30), error, color='green')\n",
    "plt.title('Elbow plot')\n",
    "plt.xlabel('k values')\n",
    "plt.ylabel('inertia values')\n",
    "plt.grid(True)\n",
    "plt.show()"
   ]
  },
  {
   "cell_type": "markdown",
   "metadata": {},
   "source": [
    "Elbow plot shows that the value of k for cluster should be 9"
   ]
  },
  {
   "cell_type": "code",
   "execution_count": null,
   "metadata": {},
   "outputs": [],
   "source": [
    "from sklearn.metrics import silhouette_score"
   ]
  },
  {
   "cell_type": "code",
   "execution_count": null,
   "metadata": {},
   "outputs": [],
   "source": [
    "from sklearn.cluster import KMeans\n",
    "X = Xs\n",
    "score = []\n",
    "\n",
    "for k in range(2,30):\n",
    "    kmeans = KMeans(n_clusters=k)\n",
    "    label =kmeans.fit_predict(X)\n",
    "    score.append(silhouette_score(X,label))\n",
    "    \n",
    "# Visualization of k values:\n",
    "plt.figure(figsize=(10,8))\n",
    "sns.barplot(x=[val for val in range(2,30)], y=score, color='green')\n",
    "plt.title('Silhouette score vs clusters')\n",
    "plt.xlabel('k values')\n",
    "plt.ylabel('silhouette score')\n",
    "plt.grid(True)\n",
    "plt.show()"
   ]
  },
  {
   "cell_type": "code",
   "execution_count": null,
   "metadata": {},
   "outputs": [],
   "source": [
    "#From both silhouette score and elbow plot we choose cluster's number=9"
   ]
  },
  {
   "cell_type": "code",
   "execution_count": null,
   "metadata": {},
   "outputs": [],
   "source": [
    "kmeans = KMeans(n_clusters=9)\n",
    "cluster =kmeans.fit_predict(Xs)"
   ]
  },
  {
   "cell_type": "code",
   "execution_count": null,
   "metadata": {},
   "outputs": [],
   "source": [
    "df_hotel['clusterKmeans'] = cluster\n",
    "df_hotel.head()"
   ]
  },
  {
   "cell_type": "code",
   "execution_count": null,
   "metadata": {},
   "outputs": [],
   "source": [
    "plt.figure(figsize=(10,8))\n",
    "sns.countplot(x=df_hotel['clusterKmeans'])\n",
    "plt.grid(True)\n",
    "plt.show()"
   ]
  },
  {
   "cell_type": "code",
   "execution_count": null,
   "metadata": {},
   "outputs": [],
   "source": [
    "df_hotel['price_average'] = (df_hotel['max']+df_hotel['min'])/2 # making average price with min and max price "
   ]
  },
  {
   "cell_type": "code",
   "execution_count": null,
   "metadata": {},
   "outputs": [],
   "source": [
    "df_hotel.groupby('clusterKmeans').describe()"
   ]
  },
  {
   "cell_type": "code",
   "execution_count": null,
   "metadata": {},
   "outputs": [],
   "source": [
    "plt.figure(figsize=(10,8))\n",
    "color_dict = dict({0:'brown',\n",
    "                  1:'green',\n",
    "                  2: 'orange',\n",
    "                  3: 'red',\n",
    "                   4: 'dodgerblue',\n",
    "                  5:'yellow',\n",
    "                  6:'blue',\n",
    "                   7:'purple',\n",
    "                   8:'magenta'\n",
    "                  })\n",
    "sns.scatterplot(data=df_hotel,x='price_average',y='discount',hue='clusterKmeans',palette=color_dict)\n",
    "plt.show()"
   ]
  },
  {
   "cell_type": "markdown",
   "metadata": {},
   "source": [
    "Most of the clusters discount varies widely and have price less than 1k but there are some which offer hardly no discount but there average price is very high"
   ]
  },
  {
   "cell_type": "markdown",
   "metadata": {},
   "source": [
    "## Agglomerative clustering"
   ]
  },
  {
   "cell_type": "code",
   "execution_count": null,
   "metadata": {},
   "outputs": [],
   "source": [
    "from sklearn.cluster import AgglomerativeClustering\n",
    "\n",
    "from scipy.cluster.hierarchy import linkage\n",
    "from scipy.cluster.hierarchy import dendrogram\n",
    "from scipy.cluster.hierarchy import cophenet"
   ]
  },
  {
   "cell_type": "code",
   "execution_count": null,
   "metadata": {},
   "outputs": [],
   "source": [
    "linkage_ward =linkage(Xs,method='ward')  # ward dendogram \n",
    "plt.figure(figsize=(8,6))\n",
    "dend =dendrogram(linkage_ward,p=10, truncate_mode='lastp')\n",
    "plt.title(\"DENDOGRAM WITH WARD LINKAGE\",color='violet')\n",
    "plt.show()"
   ]
  },
  {
   "cell_type": "code",
   "execution_count": null,
   "metadata": {},
   "outputs": [],
   "source": [
    "linkage_single=linkage(Xs,method='single')  # single dendogram \n",
    "plt.figure(figsize=(8,6))\n",
    "dendrogram(linkage_single,p=10, truncate_mode='lastp')\n",
    "plt.title(\"DENDOGRAM WITH SINGLE LINKAGE\",color='violet')\n",
    "plt.show()"
   ]
  },
  {
   "cell_type": "code",
   "execution_count": null,
   "metadata": {},
   "outputs": [],
   "source": [
    "linkage_complete =linkage(Xs,method='complete')  # complete dendogram \n",
    "plt.figure(figsize=(8,6))\n",
    "dend =dendrogram(linkage_complete,p=10, truncate_mode='lastp')\n",
    "plt.title(\"DENDOGRAM WITH COMPLETE LINKAGE\",color='violet')\n",
    "plt.show()"
   ]
  },
  {
   "cell_type": "code",
   "execution_count": null,
   "metadata": {},
   "outputs": [],
   "source": [
    "linkage_centroid =linkage(Xs,method='centroid')  # complete dendogram \n",
    "plt.figure(figsize=(8,6))\n",
    "dend =dendrogram(linkage_centroid,p=10, truncate_mode='lastp')\n",
    "plt.title(\"DENDOGRAM WITH CENTROID LINKAGE\",color='violet')\n",
    "plt.show()"
   ]
  },
  {
   "cell_type": "code",
   "execution_count": null,
   "metadata": {},
   "outputs": [],
   "source": [
    "linkage_average =linkage(Xs,method='average')  # complete dendogram \n",
    "plt.figure(figsize=(8,6))\n",
    "dend =dendrogram(linkage_average,p=10, truncate_mode='lastp')\n",
    "plt.title(\"DENDOGRAM WITH AVERAGE LINKAGE\",color='violet')\n",
    "plt.show()"
   ]
  },
  {
   "cell_type": "code",
   "execution_count": null,
   "metadata": {},
   "outputs": [],
   "source": [
    "# All dendogram convey that ward is best to form linkage with three clusters"
   ]
  },
  {
   "cell_type": "code",
   "execution_count": null,
   "metadata": {},
   "outputs": [],
   "source": [
    "agg =AgglomerativeClustering(n_clusters=3)\n",
    "cluster =agg.fit_predict(Xs)\n",
    "df_hotel['clusteringAgglomerative']= cluster"
   ]
  },
  {
   "cell_type": "code",
   "execution_count": null,
   "metadata": {},
   "outputs": [],
   "source": [
    "df_hotel.head()"
   ]
  },
  {
   "cell_type": "code",
   "execution_count": null,
   "metadata": {},
   "outputs": [],
   "source": [
    "df_hotel.drop('clusterKmeans',axis=1).groupby('clusteringAgglomerative').describe()"
   ]
  },
  {
   "cell_type": "code",
   "execution_count": null,
   "metadata": {},
   "outputs": [],
   "source": [
    "plt.figure(figsize=(10,8))\n",
    "dic= {0:'green',\n",
    "     1:'orange',\n",
    "     2:'purple'}\n",
    "sns.countplot(x=df_hotel['clusteringAgglomerative'],palette=dic)\n",
    "plt.grid(True)\n",
    "plt.title(\"AGGLOMERATIVE CLUSTERS COUNT\",color='violet')\n",
    "plt.show()"
   ]
  },
  {
   "cell_type": "code",
   "execution_count": null,
   "metadata": {},
   "outputs": [],
   "source": [
    "plt.figure(figsize=(10,8))\n",
    "color_dict = dict({0:'brown',\n",
    "                  1:'green',\n",
    "                  2: 'orange',\n",
    "                  })\n",
    "sns.scatterplot(data=df_hotel,x='price_average',y='discount',hue='clusteringAgglomerative',palette=color_dict)\n",
    "plt.title('Agglomerative clustering with discount and average price',color='violet')\n",
    "plt.show()"
   ]
  },
  {
   "cell_type": "markdown",
   "metadata": {},
   "source": [
    "The cluster patterns with 3 clusters in agglomerative and 9 clusters in k means is almost similar for discount and \n",
    "mean price"
   ]
  },
  {
   "cell_type": "code",
   "execution_count": null,
   "metadata": {},
   "outputs": [],
   "source": [
    "plt.figure(figsize=(10,8))\n",
    "color_dict = dict({0:'brown',\n",
    "                  1:'yellow',\n",
    "                  2: 'blue',\n",
    "                  })\n",
    "sns.stripplot(data=df_hotel,x='starrating',y='discount',hue='clusteringAgglomerative',palette=color_dict)\n",
    "plt.title(\"Discount and mean price with star rating\",color='violet')\n",
    "plt.show()"
   ]
  },
  {
   "cell_type": "markdown",
   "metadata": {},
   "source": [
    "The graph shows that all cluster belongs to either rating 3 and 4 , the density for rating 2 is less compare to other ratings which shows that most of the clusters have rating 3 and 4"
   ]
  },
  {
   "cell_type": "markdown",
   "metadata": {},
   "source": [
    "# Density based clustering "
   ]
  },
  {
   "cell_type": "code",
   "execution_count": null,
   "metadata": {},
   "outputs": [],
   "source": [
    "from sklearn.cluster import DBSCAN"
   ]
  },
  {
   "cell_type": "code",
   "execution_count": null,
   "metadata": {},
   "outputs": [],
   "source": [
    "density = DBSCAN(eps = .5, min_samples =4)\n",
    "density.fit(Xs)"
   ]
  },
  {
   "cell_type": "code",
   "execution_count": null,
   "metadata": {},
   "outputs": [],
   "source": [
    "df_hotel['clusteringDensity'] = density.labels_"
   ]
  },
  {
   "cell_type": "code",
   "execution_count": null,
   "metadata": {},
   "outputs": [],
   "source": [
    "df_hotel['clusteringDensity'].value_counts()"
   ]
  },
  {
   "cell_type": "code",
   "execution_count": null,
   "metadata": {},
   "outputs": [],
   "source": [
    "plt.figure(figsize=(10,8))\n",
    "color_dict = dict({0:'brown',\n",
    "                  1:'green',\n",
    "                  2: 'orange',\n",
    "                  3: 'red',\n",
    "                   4: 'dodgerblue',\n",
    "                  5:'yellow',\n",
    "                  6:'blue',\n",
    "                   7:'purple',\n",
    "                   -1:'magenta'\n",
    "                  })\n",
    "sns.countplot(x=df_hotel['clusteringDensity'],palette=color_dict)\n",
    "plt.grid(True)\n",
    "plt.title(\"DENSITY BASED CLUSTERS COUNT\",color='violet')\n",
    "plt.show()"
   ]
  },
  {
   "cell_type": "markdown",
   "metadata": {},
   "source": [
    "The density based clustering does not suits this data, it should be neglected as the one cluster get almost all dataset while other are getting very less"
   ]
  },
  {
   "cell_type": "markdown",
   "metadata": {},
   "source": [
    "# Dealing with K medoids"
   ]
  },
  {
   "cell_type": "code",
   "execution_count": null,
   "metadata": {},
   "outputs": [],
   "source": [
    "from sklearn_extra.cluster import KMedoids"
   ]
  },
  {
   "cell_type": "code",
   "execution_count": null,
   "metadata": {},
   "outputs": [],
   "source": [
    "X = Xs\n",
    "error = []\n",
    "\n",
    "for k in range(1,10):\n",
    "    kmed = KMedoids(n_clusters=k)\n",
    "    kmed.fit(X)\n",
    "    error.append(kmed.inertia_)\n",
    "    \n",
    "# Visualization of k values:\n",
    "plt.figure(figsize=(10,8))\n",
    "plt.plot(range(1,10), error, color='green',marker='*')\n",
    "plt.title('Elbow plot for K medoids')\n",
    "plt.xlabel('k values')\n",
    "plt.ylabel('inertia values')\n",
    "plt.grid(True)\n",
    "plt.show()"
   ]
  },
  {
   "cell_type": "code",
   "execution_count": null,
   "metadata": {},
   "outputs": [],
   "source": [
    "kmedoids_model = KMedoids(n_clusters=8).fit(Xs)\n",
    "df_hotel['clusteringKmedoids']=kmedoids_model.labels_"
   ]
  },
  {
   "cell_type": "code",
   "execution_count": null,
   "metadata": {},
   "outputs": [],
   "source": [
    "df_hotel.drop(['clusteringDensity','clusteringAgglomerative'],axis=1).groupby('clusteringKmedoids').describe()"
   ]
  },
  {
   "cell_type": "code",
   "execution_count": null,
   "metadata": {},
   "outputs": [],
   "source": [
    "plt.figure(figsize=(10,8))\n",
    "color_dict = dict({0:'brown',\n",
    "                  1:'green',\n",
    "                  2: 'orange',\n",
    "                  3: 'red',\n",
    "                   4: 'dodgerblue',\n",
    "                  5:'yellow',\n",
    "                  6:'blue',\n",
    "                   7:'purple',\n",
    "                   8:'magenta'\n",
    "                  })\n",
    "sns.scatterplot(data=df_hotel,x='price_average',y='discount',hue='clusteringKmedoids',palette=color_dict)\n",
    "plt.show()"
   ]
  },
  {
   "cell_type": "code",
   "execution_count": null,
   "metadata": {},
   "outputs": [],
   "source": [
    "plt.figure(figsize=(10,8))\n",
    "color_dict = dict({0:'brown',\n",
    "                  1:'green',\n",
    "                  2: 'orange',\n",
    "                  3: 'red',\n",
    "                   4: 'dodgerblue',\n",
    "                  5:'yellow',\n",
    "                  6:'blue',\n",
    "                   7:'purple',\n",
    "                   -1:'magenta'\n",
    "                  })\n",
    "sns.countplot(x=df_hotel['clusteringKmedoids'],palette=color_dict)\n",
    "plt.grid(True)\n",
    "plt.title(\"KMEDOIDS BASED CLUSTERS COUNT\",color='violet')\n",
    "plt.show()"
   ]
  },
  {
   "cell_type": "code",
   "execution_count": null,
   "metadata": {},
   "outputs": [],
   "source": [
    "plt.figure(figsize=(8,6))\n",
    "sns.lineplot(x=df_hotel['clusteringKmedoids'],y=df_hotel['price_average'],marker='o',color='magenta')\n",
    "plt.title(\"AVERAGE PRICE OF DIFFERENT CLUSTER\",color='violet')\n",
    "plt.grid(True)\n",
    "plt.show()"
   ]
  },
  {
   "cell_type": "markdown",
   "metadata": {},
   "source": [
    "# Hotel recommendation system"
   ]
  },
  {
   "cell_type": "code",
   "execution_count": null,
   "metadata": {},
   "outputs": [],
   "source": [
    "# function to calculate distance:\n",
    "from math import  radians, cos, sin, asin, sqrt\n",
    "def distances(series_lat,series_long,user_lat,user_long):   # pass the series as list or array only \n",
    "   \n",
    "    user_lat = radians(user_lat)\n",
    "    user_long = radians(user_long)\n",
    "    series_long =[ radians(val) for val in series_long]\n",
    "    series_lat= [radians(val) for val in series_lat]\n",
    "    dlog = [ val - user_long  for val in series_long]\n",
    "    dlat = [ val - user_lat  for val in series_lat]\n",
    "    a = [  sin(dlat[i] / 2)**2 + cos(user_lat) * cos(series_lat[i]) * sin(dlog[i] / 2)**2   for i in range(len(dlog)) ]\n",
    "    r = 6371 # radius\n",
    "    c =[r*2 * asin(sqrt(val)) for val in a] # distance in km\n",
    "    return c"
   ]
  },
  {
   "cell_type": "code",
   "execution_count": null,
   "metadata": {},
   "outputs": [],
   "source": [
    "user_lat=48.8566  # user location, latitude and longitude\n",
    "user_long=2.3522\n",
    "hotel_data['distance'] = distances(np.array(hotel_data['latitude']),np.array(hotel_data['longitude']),user_lat,user_long)"
   ]
  },
  {
   "cell_type": "markdown",
   "metadata": {},
   "source": [
    "### Recommendation system based on distance"
   ]
  },
  {
   "cell_type": "code",
   "execution_count": null,
   "metadata": {
    "scrolled": true
   },
   "outputs": [],
   "source": [
    "recommendation_numbers =5\n",
    "hotel_data.sort_values(by=['distance','starrating'],ascending=[True,False]).head(recommendation_numbers) # popularity sytem sorted based on distance "
   ]
  },
  {
   "cell_type": "markdown",
   "metadata": {},
   "source": [
    "The above distance suggests the hotel based on near by distance and then later with rating."
   ]
  },
  {
   "cell_type": "markdown",
   "metadata": {},
   "source": [
    "### Hotel Recommendations based on starrating and distances"
   ]
  },
  {
   "cell_type": "code",
   "execution_count": null,
   "metadata": {},
   "outputs": [],
   "source": [
    "recommendation_numbers=5\n",
    "hotel_data.sort_values(by=['starrating','distance'],ascending=[False,True]).head(recommendation_numbers)\n",
    "#  sorted based on rating first then distance"
   ]
  },
  {
   "cell_type": "markdown",
   "metadata": {},
   "source": [
    "The rating system is very good as it will suggest the only highly rated hotel but have drawback also because the highly rated hotel may be far away from user location"
   ]
  },
  {
   "cell_type": "markdown",
   "metadata": {},
   "source": [
    "### Hotel recommendation system on basisi of city"
   ]
  },
  {
   "cell_type": "code",
   "execution_count": null,
   "metadata": {},
   "outputs": [],
   "source": [
    "hotel_data = hotel_data.drop(\"distance\",axis=1)"
   ]
  },
  {
   "cell_type": "code",
   "execution_count": null,
   "metadata": {},
   "outputs": [],
   "source": [
    "city = 'Crete Island'\n",
    "recommendation_numbers=10 # choice for the number of recommendations need to be shown \n",
    "boolean_vector =hotel_data.city==city\n",
    "print(\"YOUR TOP RECOMMENDED HOTELS ARE MENTIONED BELOW\")\n",
    "hotel_data[boolean_vector].sort_values(by=['starrating','discount'],ascending=[False,False]).iloc[0:recommendation_numbers,:]"
   ]
  },
  {
   "cell_type": "markdown",
   "metadata": {},
   "source": [
    "Above mentioned code good only if user want to select best hotel in city on basis of "
   ]
  },
  {
   "cell_type": "markdown",
   "metadata": {},
   "source": [
    "## Hybrid recommendation system ( an idea)"
   ]
  },
  {
   "cell_type": "code",
   "execution_count": null,
   "metadata": {},
   "outputs": [],
   "source": [
    "np.random.seed(26)  # generated user id randomly for collaborative model\n",
    "hotel_data['userid'] = np.random.randint(10,900,9093)\n",
    "# in our data there was no user id, suppose there are user id in the data"
   ]
  },
  {
   "cell_type": "code",
   "execution_count": null,
   "metadata": {},
   "outputs": [],
   "source": [
    "hotel_data.head()"
   ]
  },
  {
   "cell_type": "code",
   "execution_count": null,
   "metadata": {},
   "outputs": [],
   "source": [
    "from surprise import Dataset, Reader\n",
    "from surprise.model_selection import train_test_split, cross_validate\n",
    "from surprise import KNNWithMeans,SVDpp\n",
    "from surprise import accuracy"
   ]
  },
  {
   "cell_type": "code",
   "execution_count": null,
   "metadata": {},
   "outputs": [],
   "source": [
    "reader = Reader(rating_scale=(1,5))\n",
    "data = Dataset.load_from_df(hotel_data[['userid','hotelcode','starrating']],reader)\n",
    "data=data.build_full_trainset()"
   ]
  },
  {
   "cell_type": "code",
   "execution_count": null,
   "metadata": {},
   "outputs": [],
   "source": [
    "algo = KNNWithMeans(k=50, sim_options={'name':'pearson_baseline','user_based':False})\n",
    "algo.fit(data)"
   ]
  },
  {
   "cell_type": "code",
   "execution_count": null,
   "metadata": {},
   "outputs": [],
   "source": [
    "# exmaple\n",
    "hotel_id =algo.get_neighbors(data.to_inner_iid(177234), k=10) # enter hotel idd\n",
    "[data.to_raw_iid(x) for x in hotel_id] # get recommended hotel id "
   ]
  },
  {
   "cell_type": "code",
   "execution_count": null,
   "metadata": {},
   "outputs": [],
   "source": [
    "from math import  radians, cos, sin, asin, sqrt\n",
    "def distances(series_lat,series_long,user_lat,user_long):   # pass the series as list or array only \n",
    "   \n",
    "    user_lat = radians(user_lat)\n",
    "    user_long = radians(user_long)\n",
    "    series_long =[ radians(val) for val in series_long]\n",
    "    series_lat= [radians(val) for val in series_lat]\n",
    "    dlog = [ val - user_long  for val in series_long]\n",
    "    dlat = [ val - user_lat  for val in series_lat]\n",
    "    a = [  sin(dlat[i] / 2)**2 + cos(user_lat) * cos(series_lat[i]) * sin(dlog[i] / 2)**2   for i in range(len(dlog)) ]\n",
    "    r = 6371 # radius\n",
    "    c =[r*2 * asin(sqrt(val)) for val in a] # distance in km\n",
    "    return c"
   ]
  },
  {
   "cell_type": "code",
   "execution_count": null,
   "metadata": {},
   "outputs": [],
   "source": [
    "user_lat=48.8566  # assume latitue and logitude of user ( exmaple take from Paris longitude and langidute )\n",
    "user_long=2.3522\n",
    "hotel_data['distance'] = distances(np.array(hotel_data['latitude']),np.array(hotel_data['longitude']),user_lat,user_long)"
   ]
  },
  {
   "cell_type": "code",
   "execution_count": null,
   "metadata": {},
   "outputs": [],
   "source": [
    "distance_boolean= hotel_data['distance']<=30\n",
    "recommendation_popularity=hotel_data[distance_boolean].sort_values(['starrating','discount'],ascending =[False,False]).iloc[:,0]\n",
    "\n",
    "\n",
    "hotel_id =algo.get_neighbors(data.to_inner_iid(int(recommendation_popularity[0:1].values)), k=100) # passing first recommendation\n",
    "recommendation_collaborative=[data.to_raw_iid(x) for x in hotel_id]\n",
    "\n",
    "recommendation_id = set.intersection(set(recommendation_collaborative),set(list(recommendation_popularity)))"
   ]
  },
  {
   "cell_type": "code",
   "execution_count": null,
   "metadata": {},
   "outputs": [],
   "source": [
    "recommendation_number=5\n",
    "i=1\n",
    "for hotelid in recommendation_id:\n",
    "    if i<= recommendation_number:\n",
    "        print(\"Recommendation number:\",i)\n",
    "        print(hotel_data[hotel_data.hotelcode ==hotelid][['hotelname','address','starrating','distance']],'\\n')\n",
    "        i=i+1\n",
    "    else:\n",
    "        pass"
   ]
  },
  {
   "cell_type": "code",
   "execution_count": null,
   "metadata": {},
   "outputs": [],
   "source": [
    "b={2,34,1}\n",
    "c={1,2,3}\n",
    "set.intersection(b,c)"
   ]
  }
 ],
 "metadata": {
  "kernelspec": {
   "display_name": "Python 3",
   "language": "python",
   "name": "python3"
  },
  "language_info": {
   "codemirror_mode": {
    "name": "ipython",
    "version": 3
   },
   "file_extension": ".py",
   "mimetype": "text/x-python",
   "name": "python",
   "nbconvert_exporter": "python",
   "pygments_lexer": "ipython3",
   "version": "3.8.3"
  }
 },
 "nbformat": 4,
 "nbformat_minor": 4
}
